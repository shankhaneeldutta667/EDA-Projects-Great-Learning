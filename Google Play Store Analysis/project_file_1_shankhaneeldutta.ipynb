{
 "cells": [
  {
   "cell_type": "markdown",
   "id": "a7fe8cb5",
   "metadata": {},
   "source": [
    "#### Q1) Import required libraries and read the dataset."
   ]
  },
  {
   "cell_type": "markdown",
   "id": "5e2626f5",
   "metadata": {},
   "source": [
    "## Import the libraries"
   ]
  },
  {
   "cell_type": "code",
   "execution_count": 2,
   "id": "c62dda94",
   "metadata": {},
   "outputs": [],
   "source": [
    "import numpy as np\n",
    "import pandas as pd\n",
    "import matplotlib.pyplot as plt"
   ]
  },
  {
   "cell_type": "markdown",
   "id": "190c8be3",
   "metadata": {},
   "source": [
    "## Load the Dataset"
   ]
  },
  {
   "cell_type": "code",
   "execution_count": 3,
   "id": "9e364b11",
   "metadata": {},
   "outputs": [
    {
     "data": {
      "text/html": [
       "<div>\n",
       "<style scoped>\n",
       "    .dataframe tbody tr th:only-of-type {\n",
       "        vertical-align: middle;\n",
       "    }\n",
       "\n",
       "    .dataframe tbody tr th {\n",
       "        vertical-align: top;\n",
       "    }\n",
       "\n",
       "    .dataframe thead th {\n",
       "        text-align: right;\n",
       "    }\n",
       "</style>\n",
       "<table border=\"1\" class=\"dataframe\">\n",
       "  <thead>\n",
       "    <tr style=\"text-align: right;\">\n",
       "      <th></th>\n",
       "      <th>App</th>\n",
       "      <th>Category</th>\n",
       "      <th>Rating</th>\n",
       "      <th>Reviews</th>\n",
       "      <th>Size</th>\n",
       "      <th>Installs</th>\n",
       "      <th>Type</th>\n",
       "      <th>Price</th>\n",
       "      <th>Content Rating</th>\n",
       "      <th>Genres</th>\n",
       "      <th>Last Updated</th>\n",
       "      <th>Current Ver</th>\n",
       "      <th>Android Ver</th>\n",
       "    </tr>\n",
       "  </thead>\n",
       "  <tbody>\n",
       "    <tr>\n",
       "      <th>0</th>\n",
       "      <td>Photo Editor &amp; Candy Camera &amp; Grid &amp; ScrapBook</td>\n",
       "      <td>ART_AND_DESIGN</td>\n",
       "      <td>4.1</td>\n",
       "      <td>159</td>\n",
       "      <td>19M</td>\n",
       "      <td>10,000+</td>\n",
       "      <td>Free</td>\n",
       "      <td>0</td>\n",
       "      <td>Everyone</td>\n",
       "      <td>Art &amp; Design</td>\n",
       "      <td>January 7, 2018</td>\n",
       "      <td>1.0.0</td>\n",
       "      <td>4.0.3 and up</td>\n",
       "    </tr>\n",
       "    <tr>\n",
       "      <th>1</th>\n",
       "      <td>Coloring book moana</td>\n",
       "      <td>ART_AND_DESIGN</td>\n",
       "      <td>3.9</td>\n",
       "      <td>967</td>\n",
       "      <td>14M</td>\n",
       "      <td>500,000+</td>\n",
       "      <td>Free</td>\n",
       "      <td>0</td>\n",
       "      <td>Everyone</td>\n",
       "      <td>Art &amp; Design;Pretend Play</td>\n",
       "      <td>January 15, 2018</td>\n",
       "      <td>2.0.0</td>\n",
       "      <td>4.0.3 and up</td>\n",
       "    </tr>\n",
       "    <tr>\n",
       "      <th>2</th>\n",
       "      <td>U Launcher Lite – FREE Live Cool Themes, Hide ...</td>\n",
       "      <td>ART_AND_DESIGN</td>\n",
       "      <td>4.7</td>\n",
       "      <td>87510</td>\n",
       "      <td>8.7M</td>\n",
       "      <td>5,000,000+</td>\n",
       "      <td>Free</td>\n",
       "      <td>0</td>\n",
       "      <td>Everyone</td>\n",
       "      <td>Art &amp; Design</td>\n",
       "      <td>August 1, 2018</td>\n",
       "      <td>1.2.4</td>\n",
       "      <td>4.0.3 and up</td>\n",
       "    </tr>\n",
       "    <tr>\n",
       "      <th>3</th>\n",
       "      <td>Sketch - Draw &amp; Paint</td>\n",
       "      <td>ART_AND_DESIGN</td>\n",
       "      <td>4.5</td>\n",
       "      <td>215644</td>\n",
       "      <td>25M</td>\n",
       "      <td>50,000,000+</td>\n",
       "      <td>Free</td>\n",
       "      <td>0</td>\n",
       "      <td>Teen</td>\n",
       "      <td>Art &amp; Design</td>\n",
       "      <td>June 8, 2018</td>\n",
       "      <td>Varies with device</td>\n",
       "      <td>4.2 and up</td>\n",
       "    </tr>\n",
       "    <tr>\n",
       "      <th>4</th>\n",
       "      <td>Pixel Draw - Number Art Coloring Book</td>\n",
       "      <td>ART_AND_DESIGN</td>\n",
       "      <td>4.3</td>\n",
       "      <td>967</td>\n",
       "      <td>2.8M</td>\n",
       "      <td>100,000+</td>\n",
       "      <td>Free</td>\n",
       "      <td>0</td>\n",
       "      <td>Everyone</td>\n",
       "      <td>Art &amp; Design;Creativity</td>\n",
       "      <td>June 20, 2018</td>\n",
       "      <td>1.1</td>\n",
       "      <td>4.4 and up</td>\n",
       "    </tr>\n",
       "  </tbody>\n",
       "</table>\n",
       "</div>"
      ],
      "text/plain": [
       "                                                 App        Category  Rating  \\\n",
       "0     Photo Editor & Candy Camera & Grid & ScrapBook  ART_AND_DESIGN     4.1   \n",
       "1                                Coloring book moana  ART_AND_DESIGN     3.9   \n",
       "2  U Launcher Lite – FREE Live Cool Themes, Hide ...  ART_AND_DESIGN     4.7   \n",
       "3                              Sketch - Draw & Paint  ART_AND_DESIGN     4.5   \n",
       "4              Pixel Draw - Number Art Coloring Book  ART_AND_DESIGN     4.3   \n",
       "\n",
       "  Reviews  Size     Installs  Type Price Content Rating  \\\n",
       "0     159   19M      10,000+  Free     0       Everyone   \n",
       "1     967   14M     500,000+  Free     0       Everyone   \n",
       "2   87510  8.7M   5,000,000+  Free     0       Everyone   \n",
       "3  215644   25M  50,000,000+  Free     0           Teen   \n",
       "4     967  2.8M     100,000+  Free     0       Everyone   \n",
       "\n",
       "                      Genres      Last Updated         Current Ver  \\\n",
       "0               Art & Design   January 7, 2018               1.0.0   \n",
       "1  Art & Design;Pretend Play  January 15, 2018               2.0.0   \n",
       "2               Art & Design    August 1, 2018               1.2.4   \n",
       "3               Art & Design      June 8, 2018  Varies with device   \n",
       "4    Art & Design;Creativity     June 20, 2018                 1.1   \n",
       "\n",
       "    Android Ver  \n",
       "0  4.0.3 and up  \n",
       "1  4.0.3 and up  \n",
       "2  4.0.3 and up  \n",
       "3    4.2 and up  \n",
       "4    4.4 and up  "
      ]
     },
     "execution_count": 3,
     "metadata": {},
     "output_type": "execute_result"
    }
   ],
   "source": [
    "app_data=pd.read_csv('Apps_data+(1).csv')\n",
    "app_data.head()"
   ]
  },
  {
   "cell_type": "markdown",
   "id": "70f6b75b",
   "metadata": {},
   "source": [
    "## Explore the Dataset"
   ]
  },
  {
   "cell_type": "markdown",
   "id": "7f9478fb",
   "metadata": {},
   "source": [
    "#### Q2) Check the first few samples, shape, info of the data and try to familiarize yourself with different features"
   ]
  },
  {
   "cell_type": "code",
   "execution_count": 3,
   "id": "228b198d",
   "metadata": {
    "scrolled": false
   },
   "outputs": [
    {
     "name": "stdout",
     "output_type": "stream",
     "text": [
      "<class 'pandas.core.frame.DataFrame'>\n",
      "RangeIndex: 10841 entries, 0 to 10840\n",
      "Data columns (total 13 columns):\n",
      " #   Column          Non-Null Count  Dtype  \n",
      "---  ------          --------------  -----  \n",
      " 0   App             10841 non-null  object \n",
      " 1   Category        10841 non-null  object \n",
      " 2   Rating          9367 non-null   float64\n",
      " 3   Reviews         10841 non-null  object \n",
      " 4   Size            10841 non-null  object \n",
      " 5   Installs        10841 non-null  object \n",
      " 6   Type            10840 non-null  object \n",
      " 7   Price           10841 non-null  object \n",
      " 8   Content Rating  10840 non-null  object \n",
      " 9   Genres          10841 non-null  object \n",
      " 10  Last Updated    10841 non-null  object \n",
      " 11  Current Ver     10833 non-null  object \n",
      " 12  Android Ver     10838 non-null  object \n",
      "dtypes: float64(1), object(12)\n",
      "memory usage: 1.1+ MB\n"
     ]
    }
   ],
   "source": [
    "app_data.info()"
   ]
  },
  {
   "cell_type": "code",
   "execution_count": 4,
   "id": "d5e649e7",
   "metadata": {},
   "outputs": [
    {
     "data": {
      "text/plain": [
       "(10841, 13)"
      ]
     },
     "execution_count": 4,
     "metadata": {},
     "output_type": "execute_result"
    }
   ],
   "source": [
    "app_data.shape"
   ]
  },
  {
   "cell_type": "code",
   "execution_count": 4,
   "id": "e832a6cf",
   "metadata": {},
   "outputs": [
    {
     "data": {
      "text/plain": [
       "App                0.000\n",
       "Category           0.000\n",
       "Rating            13.597\n",
       "Reviews            0.000\n",
       "Size               0.000\n",
       "Installs           0.000\n",
       "Type               0.009\n",
       "Price              0.000\n",
       "Content Rating     0.009\n",
       "Genres             0.000\n",
       "Last Updated       0.000\n",
       "Current Ver        0.074\n",
       "Android Ver        0.028\n",
       "dtype: float64"
      ]
     },
     "execution_count": 4,
     "metadata": {},
     "output_type": "execute_result"
    }
   ],
   "source": [
    "percent_missing=round((app_data.isnull().sum()/len(app_data))*100,3)\n",
    "percent_missing"
   ]
  },
  {
   "cell_type": "code",
   "execution_count": 5,
   "id": "ba6a4e59",
   "metadata": {},
   "outputs": [
    {
     "data": {
      "text/plain": [
       "array(['ART_AND_DESIGN', 'AUTO_AND_VEHICLES', 'BEAUTY',\n",
       "       'BOOKS_AND_REFERENCE', 'BUSINESS', 'COMICS', 'COMMUNICATION',\n",
       "       'DATING', 'EDUCATION', 'ENTERTAINMENT', 'EVENTS', 'FINANCE',\n",
       "       'FOOD_AND_DRINK', 'HEALTH_AND_FITNESS', 'HOUSE_AND_HOME',\n",
       "       'LIBRARIES_AND_DEMO', 'LIFESTYLE', 'GAME', 'FAMILY', 'MEDICAL',\n",
       "       'SOCIAL', 'SHOPPING', 'PHOTOGRAPHY', 'SPORTS', 'TRAVEL_AND_LOCAL',\n",
       "       'TOOLS', 'PERSONALIZATION', 'PRODUCTIVITY', 'PARENTING', 'WEATHER',\n",
       "       'VIDEO_PLAYERS', 'NEWS_AND_MAGAZINES', 'MAPS_AND_NAVIGATION',\n",
       "       '1.9'], dtype=object)"
      ]
     },
     "execution_count": 5,
     "metadata": {},
     "output_type": "execute_result"
    }
   ],
   "source": [
    "app_data['Category'].unique()"
   ]
  },
  {
   "cell_type": "markdown",
   "id": "c7223a11",
   "metadata": {},
   "source": [
    "#### Q3) Check summary statistics of the dataset. List out the columns that need to be worked upon for model building"
   ]
  },
  {
   "cell_type": "code",
   "execution_count": 7,
   "id": "87f76ea6",
   "metadata": {
    "scrolled": true
   },
   "outputs": [
    {
     "data": {
      "text/html": [
       "<div>\n",
       "<style scoped>\n",
       "    .dataframe tbody tr th:only-of-type {\n",
       "        vertical-align: middle;\n",
       "    }\n",
       "\n",
       "    .dataframe tbody tr th {\n",
       "        vertical-align: top;\n",
       "    }\n",
       "\n",
       "    .dataframe thead th {\n",
       "        text-align: right;\n",
       "    }\n",
       "</style>\n",
       "<table border=\"1\" class=\"dataframe\">\n",
       "  <thead>\n",
       "    <tr style=\"text-align: right;\">\n",
       "      <th></th>\n",
       "      <th>count</th>\n",
       "      <th>unique</th>\n",
       "      <th>top</th>\n",
       "      <th>freq</th>\n",
       "    </tr>\n",
       "  </thead>\n",
       "  <tbody>\n",
       "    <tr>\n",
       "      <th>App</th>\n",
       "      <td>10841</td>\n",
       "      <td>9660</td>\n",
       "      <td>ROBLOX</td>\n",
       "      <td>9</td>\n",
       "    </tr>\n",
       "    <tr>\n",
       "      <th>Category</th>\n",
       "      <td>10841</td>\n",
       "      <td>34</td>\n",
       "      <td>FAMILY</td>\n",
       "      <td>1972</td>\n",
       "    </tr>\n",
       "    <tr>\n",
       "      <th>Reviews</th>\n",
       "      <td>10841</td>\n",
       "      <td>6002</td>\n",
       "      <td>0</td>\n",
       "      <td>596</td>\n",
       "    </tr>\n",
       "    <tr>\n",
       "      <th>Size</th>\n",
       "      <td>10841</td>\n",
       "      <td>462</td>\n",
       "      <td>Varies with device</td>\n",
       "      <td>1695</td>\n",
       "    </tr>\n",
       "    <tr>\n",
       "      <th>Installs</th>\n",
       "      <td>10841</td>\n",
       "      <td>22</td>\n",
       "      <td>1,000,000+</td>\n",
       "      <td>1579</td>\n",
       "    </tr>\n",
       "    <tr>\n",
       "      <th>Type</th>\n",
       "      <td>10840</td>\n",
       "      <td>3</td>\n",
       "      <td>Free</td>\n",
       "      <td>10039</td>\n",
       "    </tr>\n",
       "    <tr>\n",
       "      <th>Price</th>\n",
       "      <td>10841</td>\n",
       "      <td>93</td>\n",
       "      <td>0</td>\n",
       "      <td>10040</td>\n",
       "    </tr>\n",
       "    <tr>\n",
       "      <th>Content Rating</th>\n",
       "      <td>10840</td>\n",
       "      <td>6</td>\n",
       "      <td>Everyone</td>\n",
       "      <td>8714</td>\n",
       "    </tr>\n",
       "    <tr>\n",
       "      <th>Genres</th>\n",
       "      <td>10841</td>\n",
       "      <td>120</td>\n",
       "      <td>Tools</td>\n",
       "      <td>842</td>\n",
       "    </tr>\n",
       "    <tr>\n",
       "      <th>Last Updated</th>\n",
       "      <td>10841</td>\n",
       "      <td>1378</td>\n",
       "      <td>August 3, 2018</td>\n",
       "      <td>326</td>\n",
       "    </tr>\n",
       "    <tr>\n",
       "      <th>Current Ver</th>\n",
       "      <td>10833</td>\n",
       "      <td>2832</td>\n",
       "      <td>Varies with device</td>\n",
       "      <td>1459</td>\n",
       "    </tr>\n",
       "    <tr>\n",
       "      <th>Android Ver</th>\n",
       "      <td>10838</td>\n",
       "      <td>33</td>\n",
       "      <td>4.1 and up</td>\n",
       "      <td>2451</td>\n",
       "    </tr>\n",
       "  </tbody>\n",
       "</table>\n",
       "</div>"
      ],
      "text/plain": [
       "                count unique                 top   freq\n",
       "App             10841   9660              ROBLOX      9\n",
       "Category        10841     34              FAMILY   1972\n",
       "Reviews         10841   6002                   0    596\n",
       "Size            10841    462  Varies with device   1695\n",
       "Installs        10841     22          1,000,000+   1579\n",
       "Type            10840      3                Free  10039\n",
       "Price           10841     93                   0  10040\n",
       "Content Rating  10840      6            Everyone   8714\n",
       "Genres          10841    120               Tools    842\n",
       "Last Updated    10841   1378      August 3, 2018    326\n",
       "Current Ver     10833   2832  Varies with device   1459\n",
       "Android Ver     10838     33          4.1 and up   2451"
      ]
     },
     "execution_count": 7,
     "metadata": {},
     "output_type": "execute_result"
    }
   ],
   "source": [
    "app_data.describe(include='O').transpose()"
   ]
  },
  {
   "cell_type": "code",
   "execution_count": 8,
   "id": "639cab56",
   "metadata": {},
   "outputs": [
    {
     "data": {
      "text/html": [
       "<div>\n",
       "<style scoped>\n",
       "    .dataframe tbody tr th:only-of-type {\n",
       "        vertical-align: middle;\n",
       "    }\n",
       "\n",
       "    .dataframe tbody tr th {\n",
       "        vertical-align: top;\n",
       "    }\n",
       "\n",
       "    .dataframe thead th {\n",
       "        text-align: right;\n",
       "    }\n",
       "</style>\n",
       "<table border=\"1\" class=\"dataframe\">\n",
       "  <thead>\n",
       "    <tr style=\"text-align: right;\">\n",
       "      <th></th>\n",
       "      <th>count</th>\n",
       "      <th>mean</th>\n",
       "      <th>std</th>\n",
       "      <th>min</th>\n",
       "      <th>25%</th>\n",
       "      <th>50%</th>\n",
       "      <th>75%</th>\n",
       "      <th>max</th>\n",
       "    </tr>\n",
       "  </thead>\n",
       "  <tbody>\n",
       "    <tr>\n",
       "      <th>Rating</th>\n",
       "      <td>9367.0</td>\n",
       "      <td>4.193338</td>\n",
       "      <td>0.537431</td>\n",
       "      <td>1.0</td>\n",
       "      <td>4.0</td>\n",
       "      <td>4.3</td>\n",
       "      <td>4.5</td>\n",
       "      <td>19.0</td>\n",
       "    </tr>\n",
       "  </tbody>\n",
       "</table>\n",
       "</div>"
      ],
      "text/plain": [
       "         count      mean       std  min  25%  50%  75%   max\n",
       "Rating  9367.0  4.193338  0.537431  1.0  4.0  4.3  4.5  19.0"
      ]
     },
     "execution_count": 8,
     "metadata": {},
     "output_type": "execute_result"
    }
   ],
   "source": [
    "app_data.describe().transpose()"
   ]
  },
  {
   "cell_type": "markdown",
   "id": "e8dd8f91",
   "metadata": {},
   "source": [
    "- There is only 1 column of float64 data-type ie \"Rating\"\n",
    "- Other 12 columns are of object data-type"
   ]
  },
  {
   "cell_type": "code",
   "execution_count": 9,
   "id": "d0554369",
   "metadata": {},
   "outputs": [
    {
     "data": {
      "text/plain": [
       "Index(['App', 'Category', 'Rating', 'Reviews', 'Size', 'Installs', 'Type',\n",
       "       'Price', 'Content Rating', 'Genres', 'Last Updated', 'Current Ver',\n",
       "       'Android Ver'],\n",
       "      dtype='object')"
      ]
     },
     "execution_count": 9,
     "metadata": {},
     "output_type": "execute_result"
    }
   ],
   "source": [
    "app_data.columns"
   ]
  },
  {
   "cell_type": "code",
   "execution_count": 10,
   "id": "95dd5c34",
   "metadata": {},
   "outputs": [
    {
     "data": {
      "text/plain": [
       "count          10841\n",
       "unique            22\n",
       "top       1,000,000+\n",
       "freq            1579\n",
       "Name: Installs, dtype: object"
      ]
     },
     "execution_count": 10,
     "metadata": {},
     "output_type": "execute_result"
    }
   ],
   "source": [
    "app_data['Installs'].describe()"
   ]
  },
  {
   "cell_type": "markdown",
   "id": "220766a2",
   "metadata": {},
   "source": [
    "- Columns that are needed to be worked upon for Data Modelling are:\n",
    "    - Type\n",
    "    - Installs\n",
    "    - Genres\n",
    " \n",
    "because If Genres are liked by the audience, they would like to pay for services which may increase Installations!  "
   ]
  },
  {
   "cell_type": "markdown",
   "id": "f2d360b9",
   "metadata": {},
   "source": [
    "#### Q4) Check if there are any duplicate records in the dataset? if any drop them"
   ]
  },
  {
   "cell_type": "code",
   "execution_count": 6,
   "id": "55650b38",
   "metadata": {
    "scrolled": true
   },
   "outputs": [
    {
     "data": {
      "text/plain": [
       "483"
      ]
     },
     "execution_count": 6,
     "metadata": {},
     "output_type": "execute_result"
    }
   ],
   "source": [
    "app_data.duplicated().sum()"
   ]
  },
  {
   "cell_type": "code",
   "execution_count": 67,
   "id": "b6dfef3c",
   "metadata": {},
   "outputs": [
    {
     "data": {
      "text/plain": [
       "array([False, False, False, False, False, False, False, False, False,\n",
       "       False, False, False, False])"
      ]
     },
     "execution_count": 67,
     "metadata": {},
     "output_type": "execute_result"
    }
   ],
   "source": [
    "app_data.columns.duplicated()"
   ]
  },
  {
   "cell_type": "code",
   "execution_count": 7,
   "id": "806cb92e",
   "metadata": {},
   "outputs": [],
   "source": [
    "app_data.drop_duplicates(inplace=True)"
   ]
  },
  {
   "cell_type": "code",
   "execution_count": 8,
   "id": "caf09e1b",
   "metadata": {},
   "outputs": [
    {
     "data": {
      "text/plain": [
       "0"
      ]
     },
     "execution_count": 8,
     "metadata": {},
     "output_type": "execute_result"
    }
   ],
   "source": [
    "app_data.duplicated().sum()"
   ]
  },
  {
   "cell_type": "markdown",
   "id": "56a2b07c",
   "metadata": {},
   "source": [
    "#### Q5) Check the unique categories of the column 'Category', Is there any invalid category? If yes, drop them"
   ]
  },
  {
   "cell_type": "code",
   "execution_count": 9,
   "id": "5e6a0b43",
   "metadata": {
    "scrolled": false
   },
   "outputs": [
    {
     "data": {
      "text/plain": [
       "array(['ART_AND_DESIGN', 'AUTO_AND_VEHICLES', 'BEAUTY',\n",
       "       'BOOKS_AND_REFERENCE', 'BUSINESS', 'COMICS', 'COMMUNICATION',\n",
       "       'DATING', 'EDUCATION', 'ENTERTAINMENT', 'EVENTS', 'FINANCE',\n",
       "       'FOOD_AND_DRINK', 'HEALTH_AND_FITNESS', 'HOUSE_AND_HOME',\n",
       "       'LIBRARIES_AND_DEMO', 'LIFESTYLE', 'GAME', 'FAMILY', 'MEDICAL',\n",
       "       'SOCIAL', 'SHOPPING', 'PHOTOGRAPHY', 'SPORTS', 'TRAVEL_AND_LOCAL',\n",
       "       'TOOLS', 'PERSONALIZATION', 'PRODUCTIVITY', 'PARENTING', 'WEATHER',\n",
       "       'VIDEO_PLAYERS', 'NEWS_AND_MAGAZINES', 'MAPS_AND_NAVIGATION',\n",
       "       '1.9'], dtype=object)"
      ]
     },
     "execution_count": 9,
     "metadata": {},
     "output_type": "execute_result"
    }
   ],
   "source": [
    "app_data['Category'].unique()"
   ]
  },
  {
   "cell_type": "code",
   "execution_count": 16,
   "id": "257e7680",
   "metadata": {},
   "outputs": [
    {
     "data": {
      "text/plain": [
       "count      10358\n",
       "unique        34\n",
       "top       FAMILY\n",
       "freq        1943\n",
       "Name: Category, dtype: object"
      ]
     },
     "execution_count": 16,
     "metadata": {},
     "output_type": "execute_result"
    }
   ],
   "source": [
    "app_data['Category'].describe()"
   ]
  },
  {
   "cell_type": "code",
   "execution_count": 10,
   "id": "4321f633",
   "metadata": {
    "scrolled": true
   },
   "outputs": [
    {
     "name": "stdout",
     "output_type": "stream",
     "text": [
      "<class 'pandas.core.frame.DataFrame'>\n",
      "Int64Index: 10357 entries, 0 to 10840\n",
      "Data columns (total 13 columns):\n",
      " #   Column          Non-Null Count  Dtype  \n",
      "---  ------          --------------  -----  \n",
      " 0   App             10357 non-null  object \n",
      " 1   Category        10357 non-null  object \n",
      " 2   Rating          8892 non-null   float64\n",
      " 3   Reviews         10357 non-null  object \n",
      " 4   Size            10357 non-null  object \n",
      " 5   Installs        10357 non-null  object \n",
      " 6   Type            10356 non-null  object \n",
      " 7   Price           10357 non-null  object \n",
      " 8   Content Rating  10357 non-null  object \n",
      " 9   Genres          10357 non-null  object \n",
      " 10  Last Updated    10357 non-null  object \n",
      " 11  Current Ver     10349 non-null  object \n",
      " 12  Android Ver     10355 non-null  object \n",
      "dtypes: float64(1), object(12)\n",
      "memory usage: 1.1+ MB\n"
     ]
    }
   ],
   "source": [
    "app_data=app_data[app_data['Category']!='1.9']\n",
    "app_data.info()"
   ]
  },
  {
   "cell_type": "code",
   "execution_count": 11,
   "id": "290ecb54",
   "metadata": {},
   "outputs": [
    {
     "data": {
      "text/plain": [
       "array(['ART_AND_DESIGN', 'AUTO_AND_VEHICLES', 'BEAUTY',\n",
       "       'BOOKS_AND_REFERENCE', 'BUSINESS', 'COMICS', 'COMMUNICATION',\n",
       "       'DATING', 'EDUCATION', 'ENTERTAINMENT', 'EVENTS', 'FINANCE',\n",
       "       'FOOD_AND_DRINK', 'HEALTH_AND_FITNESS', 'HOUSE_AND_HOME',\n",
       "       'LIBRARIES_AND_DEMO', 'LIFESTYLE', 'GAME', 'FAMILY', 'MEDICAL',\n",
       "       'SOCIAL', 'SHOPPING', 'PHOTOGRAPHY', 'SPORTS', 'TRAVEL_AND_LOCAL',\n",
       "       'TOOLS', 'PERSONALIZATION', 'PRODUCTIVITY', 'PARENTING', 'WEATHER',\n",
       "       'VIDEO_PLAYERS', 'NEWS_AND_MAGAZINES', 'MAPS_AND_NAVIGATION'],\n",
       "      dtype=object)"
      ]
     },
     "execution_count": 11,
     "metadata": {},
     "output_type": "execute_result"
    }
   ],
   "source": [
    "app_data['Category'].unique()"
   ]
  },
  {
   "cell_type": "markdown",
   "id": "ed6353da",
   "metadata": {},
   "source": [
    "- '1.9' is an invalid category in the 'Category' column. So I dropped the row"
   ]
  },
  {
   "cell_type": "markdown",
   "id": "fb26bc93",
   "metadata": {},
   "source": [
    "#### Q6) Check if there are missing values present in the column Rating, If any? drop them and and create a new column as 'Rating_category' by converting ratings to high and low categories(>3.5 is high rest low)"
   ]
  },
  {
   "cell_type": "code",
   "execution_count": 73,
   "id": "4110ad2c",
   "metadata": {},
   "outputs": [
    {
     "data": {
      "text/plain": [
       "1465"
      ]
     },
     "execution_count": 73,
     "metadata": {},
     "output_type": "execute_result"
    }
   ],
   "source": [
    "app_data['Rating'].isnull().sum()"
   ]
  },
  {
   "cell_type": "code",
   "execution_count": 74,
   "id": "6fa3dfda",
   "metadata": {},
   "outputs": [
    {
     "data": {
      "text/plain": [
       "8892"
      ]
     },
     "execution_count": 74,
     "metadata": {},
     "output_type": "execute_result"
    }
   ],
   "source": [
    "app_data['Rating'].notnull().sum()"
   ]
  },
  {
   "cell_type": "code",
   "execution_count": 12,
   "id": "0f191eeb",
   "metadata": {},
   "outputs": [],
   "source": [
    "app_data.dropna(subset=['Rating'],inplace=True)"
   ]
  },
  {
   "cell_type": "code",
   "execution_count": 13,
   "id": "89934a6d",
   "metadata": {},
   "outputs": [
    {
     "data": {
      "text/plain": [
       "0"
      ]
     },
     "execution_count": 13,
     "metadata": {},
     "output_type": "execute_result"
    }
   ],
   "source": [
    "app_data['Rating'].isnull().sum()"
   ]
  },
  {
   "cell_type": "code",
   "execution_count": 77,
   "id": "0248228f",
   "metadata": {},
   "outputs": [
    {
     "data": {
      "text/html": [
       "<div>\n",
       "<style scoped>\n",
       "    .dataframe tbody tr th:only-of-type {\n",
       "        vertical-align: middle;\n",
       "    }\n",
       "\n",
       "    .dataframe tbody tr th {\n",
       "        vertical-align: top;\n",
       "    }\n",
       "\n",
       "    .dataframe thead th {\n",
       "        text-align: right;\n",
       "    }\n",
       "</style>\n",
       "<table border=\"1\" class=\"dataframe\">\n",
       "  <thead>\n",
       "    <tr style=\"text-align: right;\">\n",
       "      <th></th>\n",
       "      <th>App</th>\n",
       "      <th>Category</th>\n",
       "      <th>Rating</th>\n",
       "      <th>Reviews</th>\n",
       "      <th>Size</th>\n",
       "      <th>Installs</th>\n",
       "      <th>Type</th>\n",
       "      <th>Price</th>\n",
       "      <th>Content Rating</th>\n",
       "      <th>Genres</th>\n",
       "      <th>Last Updated</th>\n",
       "      <th>Current Ver</th>\n",
       "      <th>Android Ver</th>\n",
       "    </tr>\n",
       "  </thead>\n",
       "  <tbody>\n",
       "    <tr>\n",
       "      <th>0</th>\n",
       "      <td>Photo Editor &amp; Candy Camera &amp; Grid &amp; ScrapBook</td>\n",
       "      <td>ART_AND_DESIGN</td>\n",
       "      <td>4.1</td>\n",
       "      <td>159</td>\n",
       "      <td>19M</td>\n",
       "      <td>10,000+</td>\n",
       "      <td>Free</td>\n",
       "      <td>0</td>\n",
       "      <td>Everyone</td>\n",
       "      <td>Art &amp; Design</td>\n",
       "      <td>January 7, 2018</td>\n",
       "      <td>1.0.0</td>\n",
       "      <td>4.0.3 and up</td>\n",
       "    </tr>\n",
       "    <tr>\n",
       "      <th>1</th>\n",
       "      <td>Coloring book moana</td>\n",
       "      <td>ART_AND_DESIGN</td>\n",
       "      <td>3.9</td>\n",
       "      <td>967</td>\n",
       "      <td>14M</td>\n",
       "      <td>500,000+</td>\n",
       "      <td>Free</td>\n",
       "      <td>0</td>\n",
       "      <td>Everyone</td>\n",
       "      <td>Art &amp; Design;Pretend Play</td>\n",
       "      <td>January 15, 2018</td>\n",
       "      <td>2.0.0</td>\n",
       "      <td>4.0.3 and up</td>\n",
       "    </tr>\n",
       "    <tr>\n",
       "      <th>2</th>\n",
       "      <td>U Launcher Lite – FREE Live Cool Themes, Hide ...</td>\n",
       "      <td>ART_AND_DESIGN</td>\n",
       "      <td>4.7</td>\n",
       "      <td>87510</td>\n",
       "      <td>8.7M</td>\n",
       "      <td>5,000,000+</td>\n",
       "      <td>Free</td>\n",
       "      <td>0</td>\n",
       "      <td>Everyone</td>\n",
       "      <td>Art &amp; Design</td>\n",
       "      <td>August 1, 2018</td>\n",
       "      <td>1.2.4</td>\n",
       "      <td>4.0.3 and up</td>\n",
       "    </tr>\n",
       "  </tbody>\n",
       "</table>\n",
       "</div>"
      ],
      "text/plain": [
       "                                                 App        Category  Rating  \\\n",
       "0     Photo Editor & Candy Camera & Grid & ScrapBook  ART_AND_DESIGN     4.1   \n",
       "1                                Coloring book moana  ART_AND_DESIGN     3.9   \n",
       "2  U Launcher Lite – FREE Live Cool Themes, Hide ...  ART_AND_DESIGN     4.7   \n",
       "\n",
       "  Reviews  Size    Installs  Type Price Content Rating  \\\n",
       "0     159   19M     10,000+  Free     0       Everyone   \n",
       "1     967   14M    500,000+  Free     0       Everyone   \n",
       "2   87510  8.7M  5,000,000+  Free     0       Everyone   \n",
       "\n",
       "                      Genres      Last Updated Current Ver   Android Ver  \n",
       "0               Art & Design   January 7, 2018       1.0.0  4.0.3 and up  \n",
       "1  Art & Design;Pretend Play  January 15, 2018       2.0.0  4.0.3 and up  \n",
       "2               Art & Design    August 1, 2018       1.2.4  4.0.3 and up  "
      ]
     },
     "execution_count": 77,
     "metadata": {},
     "output_type": "execute_result"
    }
   ],
   "source": [
    "app_data.head(3)"
   ]
  },
  {
   "cell_type": "code",
   "execution_count": 14,
   "id": "11bfc5b5",
   "metadata": {},
   "outputs": [
    {
     "data": {
      "text/plain": [
       "0        High\n",
       "1        High\n",
       "2        High\n",
       "3        High\n",
       "4        High\n",
       "         ... \n",
       "10834    High\n",
       "10836    High\n",
       "10837    High\n",
       "10839    High\n",
       "10840    High\n",
       "Name: Rating Category, Length: 8892, dtype: object"
      ]
     },
     "execution_count": 14,
     "metadata": {},
     "output_type": "execute_result"
    }
   ],
   "source": [
    "app_data['Rating Category']=np.where(app_data['Rating']>3.5,\"High\",\"Low\")\n",
    "app_data['Rating Category']"
   ]
  },
  {
   "cell_type": "code",
   "execution_count": 15,
   "id": "ef75ce16",
   "metadata": {},
   "outputs": [
    {
     "data": {
      "text/html": [
       "<div>\n",
       "<style scoped>\n",
       "    .dataframe tbody tr th:only-of-type {\n",
       "        vertical-align: middle;\n",
       "    }\n",
       "\n",
       "    .dataframe tbody tr th {\n",
       "        vertical-align: top;\n",
       "    }\n",
       "\n",
       "    .dataframe thead th {\n",
       "        text-align: right;\n",
       "    }\n",
       "</style>\n",
       "<table border=\"1\" class=\"dataframe\">\n",
       "  <thead>\n",
       "    <tr style=\"text-align: right;\">\n",
       "      <th></th>\n",
       "      <th>App</th>\n",
       "      <th>Category</th>\n",
       "      <th>Rating</th>\n",
       "      <th>Rating Category</th>\n",
       "      <th>Reviews</th>\n",
       "      <th>Size</th>\n",
       "      <th>Installs</th>\n",
       "      <th>Type</th>\n",
       "      <th>Price</th>\n",
       "      <th>Content Rating</th>\n",
       "      <th>Genres</th>\n",
       "      <th>Last Updated</th>\n",
       "      <th>Current Ver</th>\n",
       "      <th>Android Ver</th>\n",
       "    </tr>\n",
       "  </thead>\n",
       "  <tbody>\n",
       "    <tr>\n",
       "      <th>0</th>\n",
       "      <td>Photo Editor &amp; Candy Camera &amp; Grid &amp; ScrapBook</td>\n",
       "      <td>ART_AND_DESIGN</td>\n",
       "      <td>4.1</td>\n",
       "      <td>High</td>\n",
       "      <td>159</td>\n",
       "      <td>19M</td>\n",
       "      <td>10,000+</td>\n",
       "      <td>Free</td>\n",
       "      <td>0</td>\n",
       "      <td>Everyone</td>\n",
       "      <td>Art &amp; Design</td>\n",
       "      <td>January 7, 2018</td>\n",
       "      <td>1.0.0</td>\n",
       "      <td>4.0.3 and up</td>\n",
       "    </tr>\n",
       "    <tr>\n",
       "      <th>1</th>\n",
       "      <td>Coloring book moana</td>\n",
       "      <td>ART_AND_DESIGN</td>\n",
       "      <td>3.9</td>\n",
       "      <td>High</td>\n",
       "      <td>967</td>\n",
       "      <td>14M</td>\n",
       "      <td>500,000+</td>\n",
       "      <td>Free</td>\n",
       "      <td>0</td>\n",
       "      <td>Everyone</td>\n",
       "      <td>Art &amp; Design;Pretend Play</td>\n",
       "      <td>January 15, 2018</td>\n",
       "      <td>2.0.0</td>\n",
       "      <td>4.0.3 and up</td>\n",
       "    </tr>\n",
       "    <tr>\n",
       "      <th>2</th>\n",
       "      <td>U Launcher Lite – FREE Live Cool Themes, Hide ...</td>\n",
       "      <td>ART_AND_DESIGN</td>\n",
       "      <td>4.7</td>\n",
       "      <td>High</td>\n",
       "      <td>87510</td>\n",
       "      <td>8.7M</td>\n",
       "      <td>5,000,000+</td>\n",
       "      <td>Free</td>\n",
       "      <td>0</td>\n",
       "      <td>Everyone</td>\n",
       "      <td>Art &amp; Design</td>\n",
       "      <td>August 1, 2018</td>\n",
       "      <td>1.2.4</td>\n",
       "      <td>4.0.3 and up</td>\n",
       "    </tr>\n",
       "  </tbody>\n",
       "</table>\n",
       "</div>"
      ],
      "text/plain": [
       "                                                 App        Category  Rating  \\\n",
       "0     Photo Editor & Candy Camera & Grid & ScrapBook  ART_AND_DESIGN     4.1   \n",
       "1                                Coloring book moana  ART_AND_DESIGN     3.9   \n",
       "2  U Launcher Lite – FREE Live Cool Themes, Hide ...  ART_AND_DESIGN     4.7   \n",
       "\n",
       "  Rating Category Reviews  Size    Installs  Type Price Content Rating  \\\n",
       "0            High     159   19M     10,000+  Free     0       Everyone   \n",
       "1            High     967   14M    500,000+  Free     0       Everyone   \n",
       "2            High   87510  8.7M  5,000,000+  Free     0       Everyone   \n",
       "\n",
       "                      Genres      Last Updated Current Ver   Android Ver  \n",
       "0               Art & Design   January 7, 2018       1.0.0  4.0.3 and up  \n",
       "1  Art & Design;Pretend Play  January 15, 2018       2.0.0  4.0.3 and up  \n",
       "2               Art & Design    August 1, 2018       1.2.4  4.0.3 and up  "
      ]
     },
     "execution_count": 15,
     "metadata": {},
     "output_type": "execute_result"
    }
   ],
   "source": [
    "app_data=app_data.iloc[:,[0,1,2,13,3,4,5,6,7,8,9,10,11,12]]\n",
    "app_data.head(3)"
   ]
  },
  {
   "cell_type": "markdown",
   "id": "ba82f637",
   "metadata": {},
   "source": [
    "#### Q7) Check the distribution of the newly created column 'Rating_category' and comment on the distribution."
   ]
  },
  {
   "cell_type": "code",
   "execution_count": 16,
   "id": "0654152b",
   "metadata": {},
   "outputs": [],
   "source": [
    "import seaborn as sns"
   ]
  },
  {
   "cell_type": "code",
   "execution_count": 17,
   "id": "c9e472c0",
   "metadata": {},
   "outputs": [
    {
     "data": {
      "image/png": "[encoded data removed]",
      "text/plain": [
       "<Figure size 640x480 with 1 Axes>"
      ]
     },
     "metadata": {},
     "output_type": "display_data"
    }
   ],
   "source": [
    "sns.histplot(data=app_data['Rating Category'])\n",
    "plt.grid(True)\n",
    "plt.show()"
   ]
  },
  {
   "cell_type": "markdown",
   "id": "05d2b856",
   "metadata": {},
   "source": [
    "- From the above distribution of column 'Rating Category', we can say that\n",
    "    - Most people are giving 'High Rating'\n",
    "    - Low Rating are <1000"
   ]
  },
  {
   "cell_type": "markdown",
   "id": "41920edc",
   "metadata": {},
   "source": [
    "#### Q8) Convert the column \"Reviews'' to numeric data type and check the presence of outliers in the column and handle the outliers using a transformation approach.(Hint: Use log transformation)\n"
   ]
  },
  {
   "cell_type": "code",
   "execution_count": 18,
   "id": "9cbb701d",
   "metadata": {},
   "outputs": [
    {
     "name": "stdout",
     "output_type": "stream",
     "text": [
      "<class 'pandas.core.series.Series'>\n",
      "Int64Index: 8892 entries, 0 to 10840\n",
      "Series name: Reviews\n",
      "Non-Null Count  Dtype \n",
      "--------------  ----- \n",
      "8892 non-null   object\n",
      "dtypes: object(1)\n",
      "memory usage: 138.9+ KB\n"
     ]
    }
   ],
   "source": [
    "app_data['Reviews'].info()"
   ]
  },
  {
   "cell_type": "code",
   "execution_count": 19,
   "id": "a33e6aab",
   "metadata": {},
   "outputs": [
    {
     "name": "stdout",
     "output_type": "stream",
     "text": [
      "<class 'pandas.core.series.Series'>\n",
      "Int64Index: 8892 entries, 0 to 10840\n",
      "Series name: Reviews\n",
      "Non-Null Count  Dtype\n",
      "--------------  -----\n",
      "8892 non-null   int64\n",
      "dtypes: int64(1)\n",
      "memory usage: 138.9 KB\n"
     ]
    }
   ],
   "source": [
    "app_data['Reviews']=pd.to_numeric(app_data['Reviews'])\n",
    "app_data['Reviews'].info()"
   ]
  },
  {
   "cell_type": "code",
   "execution_count": 20,
   "id": "54479aa4",
   "metadata": {},
   "outputs": [
    {
     "data": {
      "text/plain": [
       "count    8.892000e+03\n",
       "mean     4.727764e+05\n",
       "std      2.905052e+06\n",
       "min      1.000000e+00\n",
       "25%      1.640000e+02\n",
       "50%      4.714500e+03\n",
       "75%      7.126675e+04\n",
       "max      7.815831e+07\n",
       "Name: Reviews, dtype: float64"
      ]
     },
     "execution_count": 20,
     "metadata": {},
     "output_type": "execute_result"
    }
   ],
   "source": [
    "app_data['Reviews'].describe()"
   ]
  },
  {
   "cell_type": "code",
   "execution_count": 21,
   "id": "c983e288",
   "metadata": {},
   "outputs": [
    {
     "data": {
      "text/plain": [
       "0           159\n",
       "1           967\n",
       "2         87510\n",
       "3        215644\n",
       "4           967\n",
       "          ...  \n",
       "10834         7\n",
       "10836        38\n",
       "10837         4\n",
       "10839       114\n",
       "10840    398307\n",
       "Name: Reviews, Length: 8892, dtype: int64"
      ]
     },
     "execution_count": 21,
     "metadata": {},
     "output_type": "execute_result"
    }
   ],
   "source": [
    "app_data['Reviews']"
   ]
  },
  {
   "cell_type": "code",
   "execution_count": 22,
   "id": "7280e2df",
   "metadata": {
    "scrolled": false
   },
   "outputs": [
    {
     "data": {
      "image/png": "[encoded data removed]",
      "text/plain": [
       "<Figure size 640x480 with 1 Axes>"
      ]
     },
     "metadata": {},
     "output_type": "display_data"
    }
   ],
   "source": [
    "sns.boxplot(data=app_data['Reviews'])\n",
    "plt.show()"
   ]
  },
  {
   "cell_type": "markdown",
   "id": "47e35a2d",
   "metadata": {},
   "source": [
    "#### Q9)  The column 'Size' contains alphanumeric values, treat the non numeric data and convert the column into suitable data type. (hint: Replace M with 1 million and K with 1 thousand, and drop the entries where size='Varies with device')\n"
   ]
  },
  {
   "cell_type": "code",
   "execution_count": 23,
   "id": "d4a57491",
   "metadata": {},
   "outputs": [
    {
     "data": {
      "text/plain": [
       "37       Varies with device\n",
       "42       Varies with device\n",
       "52       Varies with device\n",
       "67       Varies with device\n",
       "68       Varies with device\n",
       "                ...        \n",
       "10713    Varies with device\n",
       "10725    Varies with device\n",
       "10765    Varies with device\n",
       "10826    Varies with device\n",
       "10839    Varies with device\n",
       "Name: Size, Length: 1468, dtype: object"
      ]
     },
     "execution_count": 23,
     "metadata": {},
     "output_type": "execute_result"
    }
   ],
   "source": [
    "app_data[app_data['Size']=='Varies with device']['Size']"
   ]
  },
  {
   "cell_type": "code",
   "execution_count": 25,
   "id": "9caa9759",
   "metadata": {},
   "outputs": [
    {
     "data": {
      "text/plain": [
       "0                       19M\n",
       "1                       14M\n",
       "2                      8.7M\n",
       "3                       25M\n",
       "4                      2.8M\n",
       "                ...        \n",
       "10834                  2.6M\n",
       "10836                   53M\n",
       "10837                  3.6M\n",
       "10839    Varies with device\n",
       "10840                   19M\n",
       "Name: Size, Length: 8892, dtype: object"
      ]
     },
     "execution_count": 25,
     "metadata": {},
     "output_type": "execute_result"
    }
   ],
   "source": [
    "app_data['Size']"
   ]
  },
  {
   "cell_type": "code",
   "execution_count": 26,
   "id": "8bafd115",
   "metadata": {
    "scrolled": true
   },
   "outputs": [
    {
     "data": {
      "text/plain": [
       "array(['19M', '14M', '8.7M', '25M', '2.8M', '5.6M', '29M', '33M', '3.1M',\n",
       "       '28M', '12M', '20M', '21M', '37M', '2.7M', '5.5M', '17M', '39M',\n",
       "       '31M', '4.2M', '23M', '6.0M', '6.1M', '4.6M', '9.2M', '5.2M',\n",
       "       '11M', '24M', '9.4M', '15M', '10M', '1.2M', '26M', '8.0M', '7.9M',\n",
       "       '56M', '57M', '35M', '54M', '201k', '3.6M', '5.7M', '8.6M', '2.4M',\n",
       "       '27M', '2.5M', '7.0M', '16M', '3.4M', '8.9M', '3.9M', '2.9M',\n",
       "       '38M', '32M', '5.4M', '18M', '1.1M', '2.2M', '4.5M', '9.8M', '52M',\n",
       "       '9.0M', '6.7M', '30M', '2.6M', '7.1M', '22M', '6.4M', '3.2M',\n",
       "       '8.2M', '4.9M', '9.5M', '5.0M', '5.9M', '13M', '73M', '6.8M',\n",
       "       '3.5M', '4.0M', '2.3M', '2.1M', '42M', '9.1M', '55M', '23k',\n",
       "       '7.3M', '6.5M', '1.5M', '7.5M', '51M', '41M', '48M', '8.5M', '46M',\n",
       "       '8.3M', '4.3M', '4.7M', '3.3M', '40M', '7.8M', '8.8M', '6.6M',\n",
       "       '5.1M', '61M', '66M', '79k', '8.4M', '3.7M', '118k', '44M', '695k',\n",
       "       '1.6M', '6.2M', '53M', '1.4M', '3.0M', '7.2M', '5.8M', '3.8M',\n",
       "       '9.6M', '45M', '63M', '49M', '77M', '4.4M', '70M', '9.3M', '8.1M',\n",
       "       '36M', '6.9M', '7.4M', '84M', '97M', '2.0M', '1.9M', '1.8M',\n",
       "       '5.3M', '47M', '556k', '526k', '76M', '7.6M', '59M', '9.7M', '78M',\n",
       "       '72M', '43M', '7.7M', '6.3M', '334k', '93M', '65M', '79M', '100M',\n",
       "       '58M', '50M', '68M', '64M', '34M', '67M', '60M', '94M', '9.9M',\n",
       "       '232k', '99M', '624k', '95M', '8.5k', '41k', '292k', '11k', '80M',\n",
       "       '1.7M', '10.0M', '74M', '62M', '69M', '75M', '98M', '85M', '82M',\n",
       "       '96M', '87M', '71M', '86M', '91M', '81M', '92M', '83M', '88M',\n",
       "       '704k', '862k', '899k', '378k', '4.8M', '266k', '375k', '1.3M',\n",
       "       '975k', '980k', '4.1M', '89M', '696k', '544k', '525k', '920k',\n",
       "       '779k', '853k', '720k', '713k', '772k', '318k', '58k', '241k',\n",
       "       '196k', '857k', '51k', '953k', '865k', '251k', '930k', '540k',\n",
       "       '313k', '746k', '203k', '26k', '314k', '239k', '371k', '220k',\n",
       "       '730k', '756k', '91k', '293k', '17k', '74k', '14k', '317k', '78k',\n",
       "       '924k', '818k', '81k', '939k', '169k', '45k', '965k', '90M',\n",
       "       '545k', '61k', '283k', '655k', '714k', '93k', '872k', '121k',\n",
       "       '322k', '976k', '206k', '954k', '444k', '717k', '210k', '609k',\n",
       "       '308k', '306k', '175k', '350k', '383k', '454k', '1.0M', '70k',\n",
       "       '812k', '442k', '842k', '417k', '412k', '459k', '478k', '335k',\n",
       "       '782k', '721k', '430k', '429k', '192k', '460k', '728k', '496k',\n",
       "       '816k', '414k', '506k', '887k', '613k', '778k', '683k', '592k',\n",
       "       '186k', '840k', '647k', '373k', '437k', '598k', '716k', '585k',\n",
       "       '982k', '219k', '55k', '323k', '691k', '511k', '951k', '963k',\n",
       "       '25k', '554k', '351k', '27k', '82k', '208k', '551k', '29k', '103k',\n",
       "       '116k', '153k', '209k', '499k', '173k', '597k', '809k', '122k',\n",
       "       '411k', '400k', '801k', '787k', '50k', '643k', '986k', '516k',\n",
       "       '837k', '780k', '20k', '498k', '600k', '656k', '221k', '228k',\n",
       "       '176k', '34k', '259k', '164k', '458k', '629k', '28k', '288k',\n",
       "       '775k', '785k', '636k', '916k', '994k', '309k', '485k', '914k',\n",
       "       '903k', '608k', '500k', '54k', '562k', '847k', '948k', '811k',\n",
       "       '270k', '48k', '523k', '784k', '280k', '24k', '892k', '154k',\n",
       "       '18k', '33k', '860k', '364k', '387k', '626k', '161k', '879k',\n",
       "       '39k', '170k', '141k', '160k', '144k', '143k', '190k', '376k',\n",
       "       '193k', '473k', '246k', '73k', '253k', '957k', '420k', '72k',\n",
       "       '404k', '470k', '226k', '240k', '89k', '234k', '257k', '861k',\n",
       "       '467k', '676k', '552k', '582k', '619k'], dtype=object)"
      ]
     },
     "execution_count": 26,
     "metadata": {},
     "output_type": "execute_result"
    }
   ],
   "source": [
    "app_data=app_data[app_data['Size']!='Varies with device']\n",
    "app_data['Size'].unique()"
   ]
  },
  {
   "cell_type": "code",
   "execution_count": 27,
   "id": "1080f27c",
   "metadata": {},
   "outputs": [
    {
     "data": {
      "text/plain": [
       "7424"
      ]
     },
     "execution_count": 27,
     "metadata": {},
     "output_type": "execute_result"
    }
   ],
   "source": [
    "len(app_data.Size)"
   ]
  },
  {
   "cell_type": "code",
   "execution_count": 87,
   "id": "dece8aa3",
   "metadata": {
    "scrolled": true
   },
   "outputs": [
    {
     "data": {
      "text/plain": [
       "0         19M\n",
       "1         14M\n",
       "2        8.7M\n",
       "3         25M\n",
       "4        2.8M\n",
       "         ... \n",
       "10833    619k\n",
       "10834    2.6M\n",
       "10836     53M\n",
       "10837    3.6M\n",
       "10840     19M\n",
       "Name: Size, Length: 7424, dtype: object"
      ]
     },
     "execution_count": 87,
     "metadata": {},
     "output_type": "execute_result"
    }
   ],
   "source": [
    "app_data.Size"
   ]
  },
  {
   "cell_type": "code",
   "execution_count": 28,
   "id": "0958ad62",
   "metadata": {},
   "outputs": [],
   "source": [
    "def val_replace_k(x):\n",
    "    if type(x)==str:\n",
    "        if 'k' in x:\n",
    "            x=x.replace('k','1000')\n",
    "        return x    \n",
    "    else:\n",
    "        return x"
   ]
  },
  {
   "cell_type": "code",
   "execution_count": 29,
   "id": "72a46098",
   "metadata": {},
   "outputs": [],
   "source": [
    "app_data['Size']=app_data['Size'].apply(val_replace_k)"
   ]
  },
  {
   "cell_type": "code",
   "execution_count": 30,
   "id": "0cb652c7",
   "metadata": {
    "scrolled": true
   },
   "outputs": [
    {
     "data": {
      "text/plain": [
       "array(['19M', '14M', '8.7M', '25M', '2.8M', '5.6M', '29M', '33M', '3.1M',\n",
       "       '28M', '12M', '20M', '21M', '37M', '2.7M', '5.5M', '17M', '39M',\n",
       "       '31M', '4.2M', '23M', '6.0M', '6.1M', '4.6M', '9.2M', '5.2M',\n",
       "       '11M', '24M', '9.4M', '15M', '10M', '1.2M', '26M', '8.0M', '7.9M',\n",
       "       '56M', '57M', '35M', '54M', '2011000', '3.6M', '5.7M', '8.6M',\n",
       "       '2.4M', '27M', '2.5M', '7.0M', '16M', '3.4M', '8.9M', '3.9M',\n",
       "       '2.9M', '38M', '32M', '5.4M', '18M', '1.1M', '2.2M', '4.5M',\n",
       "       '9.8M', '52M', '9.0M', '6.7M', '30M', '2.6M', '7.1M', '22M',\n",
       "       '6.4M', '3.2M', '8.2M', '4.9M', '9.5M', '5.0M', '5.9M', '13M',\n",
       "       '73M', '6.8M', '3.5M', '4.0M', '2.3M', '2.1M', '42M', '9.1M',\n",
       "       '55M', '231000', '7.3M', '6.5M', '1.5M', '7.5M', '51M', '41M',\n",
       "       '48M', '8.5M', '46M', '8.3M', '4.3M', '4.7M', '3.3M', '40M',\n",
       "       '7.8M', '8.8M', '6.6M', '5.1M', '61M', '66M', '791000', '8.4M',\n",
       "       '3.7M', '1181000', '44M', '6951000', '1.6M', '6.2M', '53M', '1.4M',\n",
       "       '3.0M', '7.2M', '5.8M', '3.8M', '9.6M', '45M', '63M', '49M', '77M',\n",
       "       '4.4M', '70M', '9.3M', '8.1M', '36M', '6.9M', '7.4M', '84M', '97M',\n",
       "       '2.0M', '1.9M', '1.8M', '5.3M', '47M', '5561000', '5261000', '76M',\n",
       "       '7.6M', '59M', '9.7M', '78M', '72M', '43M', '7.7M', '6.3M',\n",
       "       '3341000', '93M', '65M', '79M', '100M', '58M', '50M', '68M', '64M',\n",
       "       '34M', '67M', '60M', '94M', '9.9M', '2321000', '99M', '6241000',\n",
       "       '95M', '8.51000', '411000', '2921000', '111000', '80M', '1.7M',\n",
       "       '10.0M', '74M', '62M', '69M', '75M', '98M', '85M', '82M', '96M',\n",
       "       '87M', '71M', '86M', '91M', '81M', '92M', '83M', '88M', '7041000',\n",
       "       '8621000', '8991000', '3781000', '4.8M', '2661000', '3751000',\n",
       "       '1.3M', '9751000', '9801000', '4.1M', '89M', '6961000', '5441000',\n",
       "       '5251000', '9201000', '7791000', '8531000', '7201000', '7131000',\n",
       "       '7721000', '3181000', '581000', '2411000', '1961000', '8571000',\n",
       "       '511000', '9531000', '8651000', '2511000', '9301000', '5401000',\n",
       "       '3131000', '7461000', '2031000', '261000', '3141000', '2391000',\n",
       "       '3711000', '2201000', '7301000', '7561000', '911000', '2931000',\n",
       "       '171000', '741000', '141000', '3171000', '781000', '9241000',\n",
       "       '8181000', '811000', '9391000', '1691000', '451000', '9651000',\n",
       "       '90M', '5451000', '611000', '2831000', '6551000', '7141000',\n",
       "       '931000', '8721000', '1211000', '3221000', '9761000', '2061000',\n",
       "       '9541000', '4441000', '7171000', '2101000', '6091000', '3081000',\n",
       "       '3061000', '1751000', '3501000', '3831000', '4541000', '1.0M',\n",
       "       '701000', '8121000', '4421000', '8421000', '4171000', '4121000',\n",
       "       '4591000', '4781000', '3351000', '7821000', '7211000', '4301000',\n",
       "       '4291000', '1921000', '4601000', '7281000', '4961000', '8161000',\n",
       "       '4141000', '5061000', '8871000', '6131000', '7781000', '6831000',\n",
       "       '5921000', '1861000', '8401000', '6471000', '3731000', '4371000',\n",
       "       '5981000', '7161000', '5851000', '9821000', '2191000', '551000',\n",
       "       '3231000', '6911000', '5111000', '9511000', '9631000', '251000',\n",
       "       '5541000', '3511000', '271000', '821000', '2081000', '5511000',\n",
       "       '291000', '1031000', '1161000', '1531000', '2091000', '4991000',\n",
       "       '1731000', '5971000', '8091000', '1221000', '4111000', '4001000',\n",
       "       '8011000', '7871000', '501000', '6431000', '9861000', '5161000',\n",
       "       '8371000', '7801000', '201000', '4981000', '6001000', '6561000',\n",
       "       '2211000', '2281000', '1761000', '341000', '2591000', '1641000',\n",
       "       '4581000', '6291000', '281000', '2881000', '7751000', '7851000',\n",
       "       '6361000', '9161000', '9941000', '3091000', '4851000', '9141000',\n",
       "       '9031000', '6081000', '5001000', '541000', '5621000', '8471000',\n",
       "       '9481000', '8111000', '2701000', '481000', '5231000', '7841000',\n",
       "       '2801000', '241000', '8921000', '1541000', '181000', '331000',\n",
       "       '8601000', '3641000', '3871000', '6261000', '1611000', '8791000',\n",
       "       '391000', '1701000', '1411000', '1601000', '1441000', '1431000',\n",
       "       '1901000', '3761000', '1931000', '4731000', '2461000', '731000',\n",
       "       '2531000', '9571000', '4201000', '721000', '4041000', '4701000',\n",
       "       '2261000', '2401000', '891000', '2341000', '2571000', '8611000',\n",
       "       '4671000', '6761000', '5521000', '5821000', '6191000'],\n",
       "      dtype=object)"
      ]
     },
     "execution_count": 30,
     "metadata": {},
     "output_type": "execute_result"
    }
   ],
   "source": [
    "app_data['Size'].unique()"
   ]
  },
  {
   "cell_type": "code",
   "execution_count": 31,
   "id": "4c3f8879",
   "metadata": {},
   "outputs": [],
   "source": [
    "def val_replace_M(x):\n",
    "    if type(x)==str:\n",
    "        if 'M' in x:\n",
    "            x=x.replace('M','1000000')\n",
    "        return x    \n",
    "    else:\n",
    "        return x"
   ]
  },
  {
   "cell_type": "code",
   "execution_count": 32,
   "id": "f9423c39",
   "metadata": {},
   "outputs": [],
   "source": [
    "app_data['Size']=app_data['Size'].apply(val_replace_M)"
   ]
  },
  {
   "cell_type": "code",
   "execution_count": 34,
   "id": "4bd61fa7",
   "metadata": {
    "scrolled": true
   },
   "outputs": [
    {
     "data": {
      "text/plain": [
       "array(['191000000', '141000000', '8.71000000', '251000000', '2.81000000',\n",
       "       '5.61000000', '291000000', '331000000', '3.11000000', '281000000',\n",
       "       '121000000', '201000000', '211000000', '371000000', '2.71000000',\n",
       "       '5.51000000', '171000000', '391000000', '311000000', '4.21000000',\n",
       "       '231000000', '6.01000000', '6.11000000', '4.61000000',\n",
       "       '9.21000000', '5.21000000', '111000000', '241000000', '9.41000000',\n",
       "       '151000000', '101000000', '1.21000000', '261000000', '8.01000000',\n",
       "       '7.91000000', '561000000', '571000000', '351000000', '541000000',\n",
       "       '2011000', '3.61000000', '5.71000000', '8.61000000', '2.41000000',\n",
       "       '271000000', '2.51000000', '7.01000000', '161000000', '3.41000000',\n",
       "       '8.91000000', '3.91000000', '2.91000000', '381000000', '321000000',\n",
       "       '5.41000000', '181000000', '1.11000000', '2.21000000',\n",
       "       '4.51000000', '9.81000000', '521000000', '9.01000000',\n",
       "       '6.71000000', '301000000', '2.61000000', '7.11000000', '221000000',\n",
       "       '6.41000000', '3.21000000', '8.21000000', '4.91000000',\n",
       "       '9.51000000', '5.01000000', '5.91000000', '131000000', '731000000',\n",
       "       '6.81000000', '3.51000000', '4.01000000', '2.31000000',\n",
       "       '2.11000000', '421000000', '9.11000000', '551000000', '231000',\n",
       "       '7.31000000', '6.51000000', '1.51000000', '7.51000000',\n",
       "       '511000000', '411000000', '481000000', '8.51000000', '461000000',\n",
       "       '8.31000000', '4.31000000', '4.71000000', '3.31000000',\n",
       "       '401000000', '7.81000000', '8.81000000', '6.61000000',\n",
       "       '5.11000000', '611000000', '661000000', '791000', '8.41000000',\n",
       "       '3.71000000', '1181000', '441000000', '6951000', '1.61000000',\n",
       "       '6.21000000', '531000000', '1.41000000', '3.01000000',\n",
       "       '7.21000000', '5.81000000', '3.81000000', '9.61000000',\n",
       "       '451000000', '631000000', '491000000', '771000000', '4.41000000',\n",
       "       '701000000', '9.31000000', '8.11000000', '361000000', '6.91000000',\n",
       "       '7.41000000', '841000000', '971000000', '2.01000000', '1.91000000',\n",
       "       '1.81000000', '5.31000000', '471000000', '5561000', '5261000',\n",
       "       '761000000', '7.61000000', '591000000', '9.71000000', '781000000',\n",
       "       '721000000', '431000000', '7.71000000', '6.31000000', '3341000',\n",
       "       '931000000', '651000000', '791000000', '1001000000', '581000000',\n",
       "       '501000000', '681000000', '641000000', '341000000', '671000000',\n",
       "       '601000000', '941000000', '9.91000000', '2321000', '991000000',\n",
       "       '6241000', '951000000', '8.51000', '411000', '2921000', '111000',\n",
       "       '801000000', '1.71000000', '10.01000000', '741000000', '621000000',\n",
       "       '691000000', '751000000', '981000000', '851000000', '821000000',\n",
       "       '961000000', '871000000', '711000000', '861000000', '911000000',\n",
       "       '811000000', '921000000', '831000000', '881000000', '7041000',\n",
       "       '8621000', '8991000', '3781000', '4.81000000', '2661000',\n",
       "       '3751000', '1.31000000', '9751000', '9801000', '4.11000000',\n",
       "       '891000000', '6961000', '5441000', '5251000', '9201000', '7791000',\n",
       "       '8531000', '7201000', '7131000', '7721000', '3181000', '581000',\n",
       "       '2411000', '1961000', '8571000', '511000', '9531000', '8651000',\n",
       "       '2511000', '9301000', '5401000', '3131000', '7461000', '2031000',\n",
       "       '261000', '3141000', '2391000', '3711000', '2201000', '7301000',\n",
       "       '7561000', '911000', '2931000', '171000', '741000', '141000',\n",
       "       '3171000', '781000', '9241000', '8181000', '811000', '9391000',\n",
       "       '1691000', '451000', '9651000', '901000000', '5451000', '611000',\n",
       "       '2831000', '6551000', '7141000', '931000', '8721000', '1211000',\n",
       "       '3221000', '9761000', '2061000', '9541000', '4441000', '7171000',\n",
       "       '2101000', '6091000', '3081000', '3061000', '1751000', '3501000',\n",
       "       '3831000', '4541000', '1.01000000', '701000', '8121000', '4421000',\n",
       "       '8421000', '4171000', '4121000', '4591000', '4781000', '3351000',\n",
       "       '7821000', '7211000', '4301000', '4291000', '1921000', '4601000',\n",
       "       '7281000', '4961000', '8161000', '4141000', '5061000', '8871000',\n",
       "       '6131000', '7781000', '6831000', '5921000', '1861000', '8401000',\n",
       "       '6471000', '3731000', '4371000', '5981000', '7161000', '5851000',\n",
       "       '9821000', '2191000', '551000', '3231000', '6911000', '5111000',\n",
       "       '9511000', '9631000', '251000', '5541000', '3511000', '271000',\n",
       "       '821000', '2081000', '5511000', '291000', '1031000', '1161000',\n",
       "       '1531000', '2091000', '4991000', '1731000', '5971000', '8091000',\n",
       "       '1221000', '4111000', '4001000', '8011000', '7871000', '501000',\n",
       "       '6431000', '9861000', '5161000', '8371000', '7801000', '201000',\n",
       "       '4981000', '6001000', '6561000', '2211000', '2281000', '1761000',\n",
       "       '341000', '2591000', '1641000', '4581000', '6291000', '281000',\n",
       "       '2881000', '7751000', '7851000', '6361000', '9161000', '9941000',\n",
       "       '3091000', '4851000', '9141000', '9031000', '6081000', '5001000',\n",
       "       '541000', '5621000', '8471000', '9481000', '8111000', '2701000',\n",
       "       '481000', '5231000', '7841000', '2801000', '241000', '8921000',\n",
       "       '1541000', '181000', '331000', '8601000', '3641000', '3871000',\n",
       "       '6261000', '1611000', '8791000', '391000', '1701000', '1411000',\n",
       "       '1601000', '1441000', '1431000', '1901000', '3761000', '1931000',\n",
       "       '4731000', '2461000', '731000', '2531000', '9571000', '4201000',\n",
       "       '721000', '4041000', '4701000', '2261000', '2401000', '891000',\n",
       "       '2341000', '2571000', '8611000', '4671000', '6761000', '5521000',\n",
       "       '5821000', '6191000'], dtype=object)"
      ]
     },
     "execution_count": 34,
     "metadata": {},
     "output_type": "execute_result"
    }
   ],
   "source": [
    "app_data['Size'].unique()"
   ]
  },
  {
   "cell_type": "code",
   "execution_count": 39,
   "id": "65130a51",
   "metadata": {},
   "outputs": [],
   "source": [
    "def casting(x):\n",
    "    if type(x)==str:\n",
    "        x=float(x)\n",
    "        return x\n",
    "    else:\n",
    "        return x"
   ]
  },
  {
   "cell_type": "code",
   "execution_count": 55,
   "id": "265e69ae",
   "metadata": {},
   "outputs": [],
   "source": [
    "app_data['Size']=app_data['Size'].apply(int_casting)"
   ]
  },
  {
   "cell_type": "code",
   "execution_count": 56,
   "id": "808f181c",
   "metadata": {
    "scrolled": true
   },
   "outputs": [
    {
     "data": {
      "text/plain": [
       "array([1.910e+08, 1.410e+08, 8.710e+00, 2.510e+08, 2.810e+00, 5.610e+00,\n",
       "       2.910e+08, 3.310e+08, 3.110e+00, 2.810e+08, 1.210e+08, 2.010e+08,\n",
       "       2.110e+08, 3.710e+08, 2.710e+00, 5.510e+00, 1.710e+08, 3.910e+08,\n",
       "       3.110e+08, 4.210e+00, 2.310e+08, 6.010e+00, 6.110e+00, 4.610e+00,\n",
       "       9.210e+00, 5.210e+00, 1.110e+08, 2.410e+08, 9.410e+00, 1.510e+08,\n",
       "       1.010e+08, 1.210e+00, 2.610e+08, 8.010e+00, 7.910e+00, 5.610e+08,\n",
       "       5.710e+08, 3.510e+08, 5.410e+08, 2.011e+06, 3.610e+00, 5.710e+00,\n",
       "       8.610e+00, 2.410e+00, 2.710e+08, 2.510e+00, 7.010e+00, 1.610e+08,\n",
       "       3.410e+00, 8.910e+00, 3.910e+00, 2.910e+00, 3.810e+08, 3.210e+08,\n",
       "       5.410e+00, 1.810e+08, 1.110e+00, 2.210e+00, 4.510e+00, 9.810e+00,\n",
       "       5.210e+08, 9.010e+00, 6.710e+00, 3.010e+08, 2.610e+00, 7.110e+00,\n",
       "       2.210e+08, 6.410e+00, 3.210e+00, 8.210e+00, 4.910e+00, 9.510e+00,\n",
       "       5.010e+00, 5.910e+00, 1.310e+08, 7.310e+08, 6.810e+00, 3.510e+00,\n",
       "       4.010e+00, 2.310e+00, 2.110e+00, 4.210e+08, 9.110e+00, 5.510e+08,\n",
       "       2.310e+05, 7.310e+00, 6.510e+00, 1.510e+00, 7.510e+00, 5.110e+08,\n",
       "       4.110e+08, 4.810e+08, 8.510e+00, 4.610e+08, 8.310e+00, 4.310e+00,\n",
       "       4.710e+00, 3.310e+00, 4.010e+08, 7.810e+00, 8.810e+00, 6.610e+00,\n",
       "       5.110e+00, 6.110e+08, 6.610e+08, 7.910e+05, 8.410e+00, 3.710e+00,\n",
       "       1.181e+06, 4.410e+08, 6.951e+06, 1.610e+00, 6.210e+00, 5.310e+08,\n",
       "       1.410e+00, 3.010e+00, 7.210e+00, 5.810e+00, 3.810e+00, 9.610e+00,\n",
       "       4.510e+08, 6.310e+08, 4.910e+08, 7.710e+08, 4.410e+00, 7.010e+08,\n",
       "       9.310e+00, 8.110e+00, 3.610e+08, 6.910e+00, 7.410e+00, 8.410e+08,\n",
       "       9.710e+08, 2.010e+00, 1.910e+00, 1.810e+00, 5.310e+00, 4.710e+08,\n",
       "       5.561e+06, 5.261e+06, 7.610e+08, 7.610e+00, 5.910e+08, 9.710e+00,\n",
       "       7.810e+08, 7.210e+08, 4.310e+08, 7.710e+00, 6.310e+00, 3.341e+06,\n",
       "       9.310e+08, 6.510e+08, 7.910e+08, 1.001e+09, 5.810e+08, 5.010e+08,\n",
       "       6.810e+08, 6.410e+08, 3.410e+08, 6.710e+08, 6.010e+08, 9.410e+08,\n",
       "       9.910e+00, 2.321e+06, 9.910e+08, 6.241e+06, 9.510e+08, 4.110e+05,\n",
       "       2.921e+06, 1.110e+05, 8.010e+08, 1.710e+00, 1.001e+01, 7.410e+08,\n",
       "       6.210e+08, 6.910e+08, 7.510e+08, 9.810e+08, 8.510e+08, 8.210e+08,\n",
       "       9.610e+08, 8.710e+08, 7.110e+08, 8.610e+08, 9.110e+08, 8.110e+08,\n",
       "       9.210e+08, 8.310e+08, 8.810e+08, 7.041e+06, 8.621e+06, 8.991e+06,\n",
       "       3.781e+06, 4.810e+00, 2.661e+06, 3.751e+06, 1.310e+00, 9.751e+06,\n",
       "       9.801e+06, 4.110e+00, 8.910e+08, 6.961e+06, 5.441e+06, 5.251e+06,\n",
       "       9.201e+06, 7.791e+06, 8.531e+06, 7.201e+06, 7.131e+06, 7.721e+06,\n",
       "       3.181e+06, 5.810e+05, 2.411e+06, 1.961e+06, 8.571e+06, 5.110e+05,\n",
       "       9.531e+06, 8.651e+06, 2.511e+06, 9.301e+06, 5.401e+06, 3.131e+06,\n",
       "       7.461e+06, 2.031e+06, 2.610e+05, 3.141e+06, 2.391e+06, 3.711e+06,\n",
       "       2.201e+06, 7.301e+06, 7.561e+06, 9.110e+05, 2.931e+06, 1.710e+05,\n",
       "       7.410e+05, 1.410e+05, 3.171e+06, 7.810e+05, 9.241e+06, 8.181e+06,\n",
       "       8.110e+05, 9.391e+06, 1.691e+06, 4.510e+05, 9.651e+06, 9.010e+08,\n",
       "       5.451e+06, 6.110e+05, 2.831e+06, 6.551e+06, 7.141e+06, 9.310e+05,\n",
       "       8.721e+06, 1.211e+06, 3.221e+06, 9.761e+06, 2.061e+06, 9.541e+06,\n",
       "       4.441e+06, 7.171e+06, 2.101e+06, 6.091e+06, 3.081e+06, 3.061e+06,\n",
       "       1.751e+06, 3.501e+06, 3.831e+06, 4.541e+06, 1.010e+00, 7.010e+05,\n",
       "       8.121e+06, 4.421e+06, 8.421e+06, 4.171e+06, 4.121e+06, 4.591e+06,\n",
       "       4.781e+06, 3.351e+06, 7.821e+06, 7.211e+06, 4.301e+06, 4.291e+06,\n",
       "       1.921e+06, 4.601e+06, 7.281e+06, 4.961e+06, 8.161e+06, 4.141e+06,\n",
       "       5.061e+06, 8.871e+06, 6.131e+06, 7.781e+06, 6.831e+06, 5.921e+06,\n",
       "       1.861e+06, 8.401e+06, 6.471e+06, 3.731e+06, 4.371e+06, 5.981e+06,\n",
       "       7.161e+06, 5.851e+06, 9.821e+06, 2.191e+06, 5.510e+05, 3.231e+06,\n",
       "       6.911e+06, 5.111e+06, 9.511e+06, 9.631e+06, 2.510e+05, 5.541e+06,\n",
       "       3.511e+06, 2.710e+05, 8.210e+05, 2.081e+06, 5.511e+06, 2.910e+05,\n",
       "       1.031e+06, 1.161e+06, 1.531e+06, 2.091e+06, 4.991e+06, 1.731e+06,\n",
       "       5.971e+06, 8.091e+06, 1.221e+06, 4.111e+06, 4.001e+06, 8.011e+06,\n",
       "       7.871e+06, 5.010e+05, 6.431e+06, 9.861e+06, 5.161e+06, 8.371e+06,\n",
       "       7.801e+06, 2.010e+05, 4.981e+06, 6.001e+06, 6.561e+06, 2.211e+06,\n",
       "       2.281e+06, 1.761e+06, 3.410e+05, 2.591e+06, 1.641e+06, 4.581e+06,\n",
       "       6.291e+06, 2.810e+05, 2.881e+06, 7.751e+06, 7.851e+06, 6.361e+06,\n",
       "       9.161e+06, 9.941e+06, 3.091e+06, 4.851e+06, 9.141e+06, 9.031e+06,\n",
       "       6.081e+06, 5.001e+06, 5.410e+05, 5.621e+06, 8.471e+06, 9.481e+06,\n",
       "       8.111e+06, 2.701e+06, 4.810e+05, 5.231e+06, 7.841e+06, 2.801e+06,\n",
       "       2.410e+05, 8.921e+06, 1.541e+06, 1.810e+05, 3.310e+05, 8.601e+06,\n",
       "       3.641e+06, 3.871e+06, 6.261e+06, 1.611e+06, 8.791e+06, 3.910e+05,\n",
       "       1.701e+06, 1.411e+06, 1.601e+06, 1.441e+06, 1.431e+06, 1.901e+06,\n",
       "       3.761e+06, 1.931e+06, 4.731e+06, 2.461e+06, 7.310e+05, 2.531e+06,\n",
       "       9.571e+06, 4.201e+06, 7.210e+05, 4.041e+06, 4.701e+06, 2.261e+06,\n",
       "       2.401e+06, 8.910e+05, 2.341e+06, 2.571e+06, 8.611e+06, 4.671e+06,\n",
       "       6.761e+06, 5.521e+06, 5.821e+06, 6.191e+06])"
      ]
     },
     "execution_count": 56,
     "metadata": {},
     "output_type": "execute_result"
    }
   ],
   "source": [
    "app_data['Size'].unique()"
   ]
  },
  {
   "cell_type": "code",
   "execution_count": 57,
   "id": "fc8fc968",
   "metadata": {},
   "outputs": [
    {
     "name": "stdout",
     "output_type": "stream",
     "text": [
      "<class 'pandas.core.series.Series'>\n",
      "Int64Index: 7424 entries, 0 to 10840\n",
      "Series name: Size\n",
      "Non-Null Count  Dtype  \n",
      "--------------  -----  \n",
      "7424 non-null   float64\n",
      "dtypes: float64(1)\n",
      "memory usage: 116.0 KB\n"
     ]
    }
   ],
   "source": [
    "app_data['Size'].info()"
   ]
  },
  {
   "cell_type": "code",
   "execution_count": 43,
   "id": "f80332e2",
   "metadata": {},
   "outputs": [
    {
     "data": {
      "text/html": [
       "<div>\n",
       "<style scoped>\n",
       "    .dataframe tbody tr th:only-of-type {\n",
       "        vertical-align: middle;\n",
       "    }\n",
       "\n",
       "    .dataframe tbody tr th {\n",
       "        vertical-align: top;\n",
       "    }\n",
       "\n",
       "    .dataframe thead th {\n",
       "        text-align: right;\n",
       "    }\n",
       "</style>\n",
       "<table border=\"1\" class=\"dataframe\">\n",
       "  <thead>\n",
       "    <tr style=\"text-align: right;\">\n",
       "      <th></th>\n",
       "      <th>App</th>\n",
       "      <th>Category</th>\n",
       "      <th>Rating</th>\n",
       "      <th>Rating Category</th>\n",
       "      <th>Reviews</th>\n",
       "      <th>Size</th>\n",
       "      <th>Installs</th>\n",
       "      <th>Type</th>\n",
       "      <th>Price</th>\n",
       "      <th>Content Rating</th>\n",
       "      <th>Genres</th>\n",
       "      <th>Last Updated</th>\n",
       "      <th>Current Ver</th>\n",
       "      <th>Android Ver</th>\n",
       "    </tr>\n",
       "  </thead>\n",
       "  <tbody>\n",
       "    <tr>\n",
       "      <th>0</th>\n",
       "      <td>Photo Editor &amp; Candy Camera &amp; Grid &amp; ScrapBook</td>\n",
       "      <td>ART_AND_DESIGN</td>\n",
       "      <td>4.1</td>\n",
       "      <td>High</td>\n",
       "      <td>159</td>\n",
       "      <td>1.910000e+08</td>\n",
       "      <td>10,000+</td>\n",
       "      <td>Free</td>\n",
       "      <td>0</td>\n",
       "      <td>Everyone</td>\n",
       "      <td>Art &amp; Design</td>\n",
       "      <td>January 7, 2018</td>\n",
       "      <td>1.0.0</td>\n",
       "      <td>4.0.3 and up</td>\n",
       "    </tr>\n",
       "    <tr>\n",
       "      <th>1</th>\n",
       "      <td>Coloring book moana</td>\n",
       "      <td>ART_AND_DESIGN</td>\n",
       "      <td>3.9</td>\n",
       "      <td>High</td>\n",
       "      <td>967</td>\n",
       "      <td>1.410000e+08</td>\n",
       "      <td>500,000+</td>\n",
       "      <td>Free</td>\n",
       "      <td>0</td>\n",
       "      <td>Everyone</td>\n",
       "      <td>Art &amp; Design;Pretend Play</td>\n",
       "      <td>January 15, 2018</td>\n",
       "      <td>2.0.0</td>\n",
       "      <td>4.0.3 and up</td>\n",
       "    </tr>\n",
       "    <tr>\n",
       "      <th>2</th>\n",
       "      <td>U Launcher Lite – FREE Live Cool Themes, Hide ...</td>\n",
       "      <td>ART_AND_DESIGN</td>\n",
       "      <td>4.7</td>\n",
       "      <td>High</td>\n",
       "      <td>87510</td>\n",
       "      <td>8.710000e+00</td>\n",
       "      <td>5,000,000+</td>\n",
       "      <td>Free</td>\n",
       "      <td>0</td>\n",
       "      <td>Everyone</td>\n",
       "      <td>Art &amp; Design</td>\n",
       "      <td>August 1, 2018</td>\n",
       "      <td>1.2.4</td>\n",
       "      <td>4.0.3 and up</td>\n",
       "    </tr>\n",
       "  </tbody>\n",
       "</table>\n",
       "</div>"
      ],
      "text/plain": [
       "                                                 App        Category  Rating  \\\n",
       "0     Photo Editor & Candy Camera & Grid & ScrapBook  ART_AND_DESIGN     4.1   \n",
       "1                                Coloring book moana  ART_AND_DESIGN     3.9   \n",
       "2  U Launcher Lite – FREE Live Cool Themes, Hide ...  ART_AND_DESIGN     4.7   \n",
       "\n",
       "  Rating Category  Reviews          Size    Installs  Type Price  \\\n",
       "0            High      159  1.910000e+08     10,000+  Free     0   \n",
       "1            High      967  1.410000e+08    500,000+  Free     0   \n",
       "2            High    87510  8.710000e+00  5,000,000+  Free     0   \n",
       "\n",
       "  Content Rating                     Genres      Last Updated Current Ver  \\\n",
       "0       Everyone               Art & Design   January 7, 2018       1.0.0   \n",
       "1       Everyone  Art & Design;Pretend Play  January 15, 2018       2.0.0   \n",
       "2       Everyone               Art & Design    August 1, 2018       1.2.4   \n",
       "\n",
       "    Android Ver  \n",
       "0  4.0.3 and up  \n",
       "1  4.0.3 and up  \n",
       "2  4.0.3 and up  "
      ]
     },
     "execution_count": 43,
     "metadata": {},
     "output_type": "execute_result"
    }
   ],
   "source": [
    "app_data.head(3)"
   ]
  },
  {
   "cell_type": "markdown",
   "id": "7523e28f",
   "metadata": {},
   "source": [
    "#### Q10)  Check the column 'Installs', treat the unwanted characters and convert the column into a suitable data type."
   ]
  },
  {
   "cell_type": "code",
   "execution_count": 44,
   "id": "91fe4ccd",
   "metadata": {},
   "outputs": [
    {
     "data": {
      "text/plain": [
       "array(['10,000+', '500,000+', '5,000,000+', '50,000,000+', '100,000+',\n",
       "       '50,000+', '1,000,000+', '10,000,000+', '5,000+', '100,000,000+',\n",
       "       '1,000+', '500,000,000+', '100+', '500+', '10+', '1,000,000,000+',\n",
       "       '5+', '50+', '1+'], dtype=object)"
      ]
     },
     "execution_count": 44,
     "metadata": {},
     "output_type": "execute_result"
    }
   ],
   "source": [
    "app_data['Installs'].unique()"
   ]
  },
  {
   "cell_type": "code",
   "execution_count": 48,
   "id": "99b3839f",
   "metadata": {},
   "outputs": [],
   "source": [
    "def remove_special_char(x):\n",
    "    if type(x)==str:\n",
    "        if '+' in x:\n",
    "            x=x.replace(\"+\",\"\")\n",
    "        return x\n",
    "    else:\n",
    "        return x"
   ]
  },
  {
   "cell_type": "code",
   "execution_count": 49,
   "id": "bea298ec",
   "metadata": {},
   "outputs": [],
   "source": [
    "app_data['Installs']=app_data['Installs'].apply(remove_special_char)"
   ]
  },
  {
   "cell_type": "code",
   "execution_count": 50,
   "id": "fa0960d8",
   "metadata": {},
   "outputs": [
    {
     "data": {
      "text/plain": [
       "array(['10000', '500000', '5000000', '50000000', '100000', '50000',\n",
       "       '1000000', '10000000', '5000', '100000000', '1000', '500000000',\n",
       "       '100', '500', '10', '1000000000', '5', '50', '1'], dtype=object)"
      ]
     },
     "execution_count": 50,
     "metadata": {},
     "output_type": "execute_result"
    }
   ],
   "source": [
    "app_data['Installs'].unique()"
   ]
  },
  {
   "cell_type": "code",
   "execution_count": 64,
   "id": "1a341525",
   "metadata": {},
   "outputs": [],
   "source": [
    "def float_casting(x):\n",
    "    if type(x)==str:\n",
    "        x=float(x)\n",
    "        return x\n",
    "    else:\n",
    "        return x"
   ]
  },
  {
   "cell_type": "code",
   "execution_count": 52,
   "id": "73694616",
   "metadata": {},
   "outputs": [],
   "source": [
    "app_data['Installs']=app_data['Installs'].apply(int_casting)"
   ]
  },
  {
   "cell_type": "code",
   "execution_count": 53,
   "id": "7d0e490c",
   "metadata": {},
   "outputs": [
    {
     "data": {
      "text/plain": [
       "array([     10000,     500000,    5000000,   50000000,     100000,\n",
       "            50000,    1000000,   10000000,       5000,  100000000,\n",
       "             1000,  500000000,        100,        500,         10,\n",
       "       1000000000,          5,         50,          1], dtype=int64)"
      ]
     },
     "execution_count": 53,
     "metadata": {},
     "output_type": "execute_result"
    }
   ],
   "source": [
    "app_data['Installs'].unique()"
   ]
  },
  {
   "cell_type": "code",
   "execution_count": 58,
   "id": "87a17694",
   "metadata": {},
   "outputs": [
    {
     "name": "stdout",
     "output_type": "stream",
     "text": [
      "<class 'pandas.core.series.Series'>\n",
      "Int64Index: 7424 entries, 0 to 10840\n",
      "Series name: Installs\n",
      "Non-Null Count  Dtype\n",
      "--------------  -----\n",
      "7424 non-null   int64\n",
      "dtypes: int64(1)\n",
      "memory usage: 116.0 KB\n"
     ]
    }
   ],
   "source": [
    "app_data['Installs'].info()"
   ]
  },
  {
   "cell_type": "markdown",
   "id": "863f26b4",
   "metadata": {},
   "source": [
    "#### Q11) Check the column 'Price' , remove the unwanted characters and convert the column into a suitable data type."
   ]
  },
  {
   "cell_type": "code",
   "execution_count": 59,
   "id": "065e96ac",
   "metadata": {},
   "outputs": [
    {
     "name": "stdout",
     "output_type": "stream",
     "text": [
      "<class 'pandas.core.series.Series'>\n",
      "Int64Index: 7424 entries, 0 to 10840\n",
      "Series name: Price\n",
      "Non-Null Count  Dtype \n",
      "--------------  ----- \n",
      "7424 non-null   object\n",
      "dtypes: object(1)\n",
      "memory usage: 116.0+ KB\n"
     ]
    }
   ],
   "source": [
    "app_data['Price'].info()"
   ]
  },
  {
   "cell_type": "code",
   "execution_count": 60,
   "id": "4b030450",
   "metadata": {},
   "outputs": [
    {
     "data": {
      "text/plain": [
       "array(['0', '$4.99', '$6.99', '$7.99', '$3.99', '$5.99', '$2.99', '$1.99',\n",
       "       '$9.99', '$0.99', '$9.00', '$5.49', '$10.00', '$24.99', '$11.99',\n",
       "       '$79.99', '$16.99', '$14.99', '$29.99', '$12.99', '$3.49',\n",
       "       '$10.99', '$7.49', '$1.50', '$19.99', '$15.99', '$33.99', '$39.99',\n",
       "       '$2.49', '$4.49', '$1.70', '$1.49', '$3.88', '$399.99', '$17.99',\n",
       "       '$400.00', '$3.02', '$1.76', '$4.84', '$4.77', '$1.61', '$1.59',\n",
       "       '$6.49', '$1.29', '$299.99', '$379.99', '$37.99', '$18.99',\n",
       "       '$389.99', '$8.49', '$1.75', '$14.00', '$2.00', '$3.08', '$2.59',\n",
       "       '$19.40', '$15.46', '$8.99', '$3.04', '$13.99', '$4.29', '$3.28',\n",
       "       '$4.60', '$1.00', '$2.90', '$1.97', '$2.56', '$1.20'], dtype=object)"
      ]
     },
     "execution_count": 60,
     "metadata": {},
     "output_type": "execute_result"
    }
   ],
   "source": [
    "app_data['Price'].unique()"
   ]
  },
  {
   "cell_type": "code",
   "execution_count": 61,
   "id": "8e0e3886",
   "metadata": {},
   "outputs": [],
   "source": [
    "def remove_special_char(x):\n",
    "    if type(x)==str:\n",
    "        if '$' in x:\n",
    "            x=x.replace(\"$\",\"\")\n",
    "        return x\n",
    "    else:\n",
    "        return x"
   ]
  },
  {
   "cell_type": "code",
   "execution_count": 62,
   "id": "ddee40c8",
   "metadata": {},
   "outputs": [],
   "source": [
    "app_data['Price']=app_data['Price'].apply(remove_special_char)"
   ]
  },
  {
   "cell_type": "code",
   "execution_count": 65,
   "id": "082e0ffb",
   "metadata": {},
   "outputs": [
    {
     "data": {
      "text/plain": [
       "array(['0', '4.99', '6.99', '7.99', '3.99', '5.99', '2.99', '1.99',\n",
       "       '9.99', '0.99', '9.00', '5.49', '10.00', '24.99', '11.99', '79.99',\n",
       "       '16.99', '14.99', '29.99', '12.99', '3.49', '10.99', '7.49',\n",
       "       '1.50', '19.99', '15.99', '33.99', '39.99', '2.49', '4.49', '1.70',\n",
       "       '1.49', '3.88', '399.99', '17.99', '400.00', '3.02', '1.76',\n",
       "       '4.84', '4.77', '1.61', '1.59', '6.49', '1.29', '299.99', '379.99',\n",
       "       '37.99', '18.99', '389.99', '8.49', '1.75', '14.00', '2.00',\n",
       "       '3.08', '2.59', '19.40', '15.46', '8.99', '3.04', '13.99', '4.29',\n",
       "       '3.28', '4.60', '1.00', '2.90', '1.97', '2.56', '1.20'],\n",
       "      dtype=object)"
      ]
     },
     "execution_count": 65,
     "metadata": {},
     "output_type": "execute_result"
    }
   ],
   "source": [
    "app_data['Price'].unique()"
   ]
  },
  {
   "cell_type": "code",
   "execution_count": 66,
   "id": "267cb6fc",
   "metadata": {},
   "outputs": [],
   "source": [
    "app_data['Price']=app_data['Price'].apply(float_casting)"
   ]
  },
  {
   "cell_type": "code",
   "execution_count": 67,
   "id": "8091190d",
   "metadata": {},
   "outputs": [
    {
     "data": {
      "text/plain": [
       "array([  0.  ,   4.99,   6.99,   7.99,   3.99,   5.99,   2.99,   1.99,\n",
       "         9.99,   0.99,   9.  ,   5.49,  10.  ,  24.99,  11.99,  79.99,\n",
       "        16.99,  14.99,  29.99,  12.99,   3.49,  10.99,   7.49,   1.5 ,\n",
       "        19.99,  15.99,  33.99,  39.99,   2.49,   4.49,   1.7 ,   1.49,\n",
       "         3.88, 399.99,  17.99, 400.  ,   3.02,   1.76,   4.84,   4.77,\n",
       "         1.61,   1.59,   6.49,   1.29, 299.99, 379.99,  37.99,  18.99,\n",
       "       389.99,   8.49,   1.75,  14.  ,   2.  ,   3.08,   2.59,  19.4 ,\n",
       "        15.46,   8.99,   3.04,  13.99,   4.29,   3.28,   4.6 ,   1.  ,\n",
       "         2.9 ,   1.97,   2.56,   1.2 ])"
      ]
     },
     "execution_count": 67,
     "metadata": {},
     "output_type": "execute_result"
    }
   ],
   "source": [
    "app_data['Price'].unique()"
   ]
  },
  {
   "cell_type": "code",
   "execution_count": 68,
   "id": "6a063ba8",
   "metadata": {
    "scrolled": true
   },
   "outputs": [
    {
     "name": "stdout",
     "output_type": "stream",
     "text": [
      "<class 'pandas.core.series.Series'>\n",
      "Int64Index: 7424 entries, 0 to 10840\n",
      "Series name: Price\n",
      "Non-Null Count  Dtype  \n",
      "--------------  -----  \n",
      "7424 non-null   float64\n",
      "dtypes: float64(1)\n",
      "memory usage: 116.0 KB\n"
     ]
    }
   ],
   "source": [
    "app_data['Price'].info()"
   ]
  },
  {
   "cell_type": "markdown",
   "id": "1dad96b4",
   "metadata": {},
   "source": [
    "#### Q12) Drop the columns which you think redundant for the analysis.(suggestion: drop column 'rating', since we created a new    feature from it (i.e. rating_category) and the columns 'App', 'Rating' ,'Genres','Last Updated', 'Current Ver','Android Ver' columns since which are redundant for our analysis)\n"
   ]
  },
  {
   "cell_type": "code",
   "execution_count": 69,
   "id": "3b0efb93",
   "metadata": {},
   "outputs": [
    {
     "data": {
      "text/html": [
       "<div>\n",
       "<style scoped>\n",
       "    .dataframe tbody tr th:only-of-type {\n",
       "        vertical-align: middle;\n",
       "    }\n",
       "\n",
       "    .dataframe tbody tr th {\n",
       "        vertical-align: top;\n",
       "    }\n",
       "\n",
       "    .dataframe thead th {\n",
       "        text-align: right;\n",
       "    }\n",
       "</style>\n",
       "<table border=\"1\" class=\"dataframe\">\n",
       "  <thead>\n",
       "    <tr style=\"text-align: right;\">\n",
       "      <th></th>\n",
       "      <th>App</th>\n",
       "      <th>Category</th>\n",
       "      <th>Rating</th>\n",
       "      <th>Rating Category</th>\n",
       "      <th>Reviews</th>\n",
       "      <th>Size</th>\n",
       "      <th>Installs</th>\n",
       "      <th>Type</th>\n",
       "      <th>Price</th>\n",
       "      <th>Content Rating</th>\n",
       "      <th>Genres</th>\n",
       "      <th>Last Updated</th>\n",
       "      <th>Current Ver</th>\n",
       "      <th>Android Ver</th>\n",
       "    </tr>\n",
       "  </thead>\n",
       "  <tbody>\n",
       "    <tr>\n",
       "      <th>0</th>\n",
       "      <td>Photo Editor &amp; Candy Camera &amp; Grid &amp; ScrapBook</td>\n",
       "      <td>ART_AND_DESIGN</td>\n",
       "      <td>4.1</td>\n",
       "      <td>High</td>\n",
       "      <td>159</td>\n",
       "      <td>1.910000e+08</td>\n",
       "      <td>10000</td>\n",
       "      <td>Free</td>\n",
       "      <td>0.0</td>\n",
       "      <td>Everyone</td>\n",
       "      <td>Art &amp; Design</td>\n",
       "      <td>January 7, 2018</td>\n",
       "      <td>1.0.0</td>\n",
       "      <td>4.0.3 and up</td>\n",
       "    </tr>\n",
       "    <tr>\n",
       "      <th>1</th>\n",
       "      <td>Coloring book moana</td>\n",
       "      <td>ART_AND_DESIGN</td>\n",
       "      <td>3.9</td>\n",
       "      <td>High</td>\n",
       "      <td>967</td>\n",
       "      <td>1.410000e+08</td>\n",
       "      <td>500000</td>\n",
       "      <td>Free</td>\n",
       "      <td>0.0</td>\n",
       "      <td>Everyone</td>\n",
       "      <td>Art &amp; Design;Pretend Play</td>\n",
       "      <td>January 15, 2018</td>\n",
       "      <td>2.0.0</td>\n",
       "      <td>4.0.3 and up</td>\n",
       "    </tr>\n",
       "    <tr>\n",
       "      <th>2</th>\n",
       "      <td>U Launcher Lite – FREE Live Cool Themes, Hide ...</td>\n",
       "      <td>ART_AND_DESIGN</td>\n",
       "      <td>4.7</td>\n",
       "      <td>High</td>\n",
       "      <td>87510</td>\n",
       "      <td>8.710000e+00</td>\n",
       "      <td>5000000</td>\n",
       "      <td>Free</td>\n",
       "      <td>0.0</td>\n",
       "      <td>Everyone</td>\n",
       "      <td>Art &amp; Design</td>\n",
       "      <td>August 1, 2018</td>\n",
       "      <td>1.2.4</td>\n",
       "      <td>4.0.3 and up</td>\n",
       "    </tr>\n",
       "    <tr>\n",
       "      <th>3</th>\n",
       "      <td>Sketch - Draw &amp; Paint</td>\n",
       "      <td>ART_AND_DESIGN</td>\n",
       "      <td>4.5</td>\n",
       "      <td>High</td>\n",
       "      <td>215644</td>\n",
       "      <td>2.510000e+08</td>\n",
       "      <td>50000000</td>\n",
       "      <td>Free</td>\n",
       "      <td>0.0</td>\n",
       "      <td>Teen</td>\n",
       "      <td>Art &amp; Design</td>\n",
       "      <td>June 8, 2018</td>\n",
       "      <td>Varies with device</td>\n",
       "      <td>4.2 and up</td>\n",
       "    </tr>\n",
       "    <tr>\n",
       "      <th>4</th>\n",
       "      <td>Pixel Draw - Number Art Coloring Book</td>\n",
       "      <td>ART_AND_DESIGN</td>\n",
       "      <td>4.3</td>\n",
       "      <td>High</td>\n",
       "      <td>967</td>\n",
       "      <td>2.810000e+00</td>\n",
       "      <td>100000</td>\n",
       "      <td>Free</td>\n",
       "      <td>0.0</td>\n",
       "      <td>Everyone</td>\n",
       "      <td>Art &amp; Design;Creativity</td>\n",
       "      <td>June 20, 2018</td>\n",
       "      <td>1.1</td>\n",
       "      <td>4.4 and up</td>\n",
       "    </tr>\n",
       "  </tbody>\n",
       "</table>\n",
       "</div>"
      ],
      "text/plain": [
       "                                                 App        Category  Rating  \\\n",
       "0     Photo Editor & Candy Camera & Grid & ScrapBook  ART_AND_DESIGN     4.1   \n",
       "1                                Coloring book moana  ART_AND_DESIGN     3.9   \n",
       "2  U Launcher Lite – FREE Live Cool Themes, Hide ...  ART_AND_DESIGN     4.7   \n",
       "3                              Sketch - Draw & Paint  ART_AND_DESIGN     4.5   \n",
       "4              Pixel Draw - Number Art Coloring Book  ART_AND_DESIGN     4.3   \n",
       "\n",
       "  Rating Category  Reviews          Size  Installs  Type  Price  \\\n",
       "0            High      159  1.910000e+08     10000  Free    0.0   \n",
       "1            High      967  1.410000e+08    500000  Free    0.0   \n",
       "2            High    87510  8.710000e+00   5000000  Free    0.0   \n",
       "3            High   215644  2.510000e+08  50000000  Free    0.0   \n",
       "4            High      967  2.810000e+00    100000  Free    0.0   \n",
       "\n",
       "  Content Rating                     Genres      Last Updated  \\\n",
       "0       Everyone               Art & Design   January 7, 2018   \n",
       "1       Everyone  Art & Design;Pretend Play  January 15, 2018   \n",
       "2       Everyone               Art & Design    August 1, 2018   \n",
       "3           Teen               Art & Design      June 8, 2018   \n",
       "4       Everyone    Art & Design;Creativity     June 20, 2018   \n",
       "\n",
       "          Current Ver   Android Ver  \n",
       "0               1.0.0  4.0.3 and up  \n",
       "1               2.0.0  4.0.3 and up  \n",
       "2               1.2.4  4.0.3 and up  \n",
       "3  Varies with device    4.2 and up  \n",
       "4                 1.1    4.4 and up  "
      ]
     },
     "execution_count": 69,
     "metadata": {},
     "output_type": "execute_result"
    }
   ],
   "source": [
    "app_data.head()"
   ]
  },
  {
   "cell_type": "code",
   "execution_count": 70,
   "id": "f6d7fac7",
   "metadata": {},
   "outputs": [
    {
     "name": "stdout",
     "output_type": "stream",
     "text": [
      "<class 'pandas.core.frame.DataFrame'>\n",
      "Int64Index: 7424 entries, 0 to 10840\n",
      "Data columns (total 14 columns):\n",
      " #   Column           Non-Null Count  Dtype  \n",
      "---  ------           --------------  -----  \n",
      " 0   App              7424 non-null   object \n",
      " 1   Category         7424 non-null   object \n",
      " 2   Rating           7424 non-null   float64\n",
      " 3   Rating Category  7424 non-null   object \n",
      " 4   Reviews          7424 non-null   int64  \n",
      " 5   Size             7424 non-null   float64\n",
      " 6   Installs         7424 non-null   int64  \n",
      " 7   Type             7424 non-null   object \n",
      " 8   Price            7424 non-null   float64\n",
      " 9   Content Rating   7424 non-null   object \n",
      " 10  Genres           7424 non-null   object \n",
      " 11  Last Updated     7424 non-null   object \n",
      " 12  Current Ver      7420 non-null   object \n",
      " 13  Android Ver      7422 non-null   object \n",
      "dtypes: float64(3), int64(2), object(9)\n",
      "memory usage: 870.0+ KB\n"
     ]
    }
   ],
   "source": [
    "app_data.info()"
   ]
  },
  {
   "cell_type": "code",
   "execution_count": null,
   "id": "13aba4d0",
   "metadata": {},
   "outputs": [],
   "source": [
    "app_data=app_data.drop(['App','Android Ver','Current Ver','Last Updated','Rating','Genres'],axis=1)"
   ]
  },
  {
   "cell_type": "code",
   "execution_count": 79,
   "id": "2c4924b7",
   "metadata": {
    "scrolled": true
   },
   "outputs": [
    {
     "data": {
      "text/html": [
       "<div>\n",
       "<style scoped>\n",
       "    .dataframe tbody tr th:only-of-type {\n",
       "        vertical-align: middle;\n",
       "    }\n",
       "\n",
       "    .dataframe tbody tr th {\n",
       "        vertical-align: top;\n",
       "    }\n",
       "\n",
       "    .dataframe thead th {\n",
       "        text-align: right;\n",
       "    }\n",
       "</style>\n",
       "<table border=\"1\" class=\"dataframe\">\n",
       "  <thead>\n",
       "    <tr style=\"text-align: right;\">\n",
       "      <th></th>\n",
       "      <th>Category</th>\n",
       "      <th>Rating Category</th>\n",
       "      <th>Reviews</th>\n",
       "      <th>Size</th>\n",
       "      <th>Installs</th>\n",
       "      <th>Type</th>\n",
       "      <th>Price</th>\n",
       "      <th>Content Rating</th>\n",
       "    </tr>\n",
       "  </thead>\n",
       "  <tbody>\n",
       "    <tr>\n",
       "      <th>0</th>\n",
       "      <td>ART_AND_DESIGN</td>\n",
       "      <td>High</td>\n",
       "      <td>159</td>\n",
       "      <td>1.910000e+08</td>\n",
       "      <td>10000</td>\n",
       "      <td>Free</td>\n",
       "      <td>0.0</td>\n",
       "      <td>Everyone</td>\n",
       "    </tr>\n",
       "    <tr>\n",
       "      <th>1</th>\n",
       "      <td>ART_AND_DESIGN</td>\n",
       "      <td>High</td>\n",
       "      <td>967</td>\n",
       "      <td>1.410000e+08</td>\n",
       "      <td>500000</td>\n",
       "      <td>Free</td>\n",
       "      <td>0.0</td>\n",
       "      <td>Everyone</td>\n",
       "    </tr>\n",
       "    <tr>\n",
       "      <th>2</th>\n",
       "      <td>ART_AND_DESIGN</td>\n",
       "      <td>High</td>\n",
       "      <td>87510</td>\n",
       "      <td>8.710000e+00</td>\n",
       "      <td>5000000</td>\n",
       "      <td>Free</td>\n",
       "      <td>0.0</td>\n",
       "      <td>Everyone</td>\n",
       "    </tr>\n",
       "    <tr>\n",
       "      <th>3</th>\n",
       "      <td>ART_AND_DESIGN</td>\n",
       "      <td>High</td>\n",
       "      <td>215644</td>\n",
       "      <td>2.510000e+08</td>\n",
       "      <td>50000000</td>\n",
       "      <td>Free</td>\n",
       "      <td>0.0</td>\n",
       "      <td>Teen</td>\n",
       "    </tr>\n",
       "    <tr>\n",
       "      <th>4</th>\n",
       "      <td>ART_AND_DESIGN</td>\n",
       "      <td>High</td>\n",
       "      <td>967</td>\n",
       "      <td>2.810000e+00</td>\n",
       "      <td>100000</td>\n",
       "      <td>Free</td>\n",
       "      <td>0.0</td>\n",
       "      <td>Everyone</td>\n",
       "    </tr>\n",
       "    <tr>\n",
       "      <th>...</th>\n",
       "      <td>...</td>\n",
       "      <td>...</td>\n",
       "      <td>...</td>\n",
       "      <td>...</td>\n",
       "      <td>...</td>\n",
       "      <td>...</td>\n",
       "      <td>...</td>\n",
       "      <td>...</td>\n",
       "    </tr>\n",
       "    <tr>\n",
       "      <th>10833</th>\n",
       "      <td>BOOKS_AND_REFERENCE</td>\n",
       "      <td>High</td>\n",
       "      <td>44</td>\n",
       "      <td>6.191000e+06</td>\n",
       "      <td>1000</td>\n",
       "      <td>Free</td>\n",
       "      <td>0.0</td>\n",
       "      <td>Everyone</td>\n",
       "    </tr>\n",
       "    <tr>\n",
       "      <th>10834</th>\n",
       "      <td>FAMILY</td>\n",
       "      <td>High</td>\n",
       "      <td>7</td>\n",
       "      <td>2.610000e+00</td>\n",
       "      <td>500</td>\n",
       "      <td>Free</td>\n",
       "      <td>0.0</td>\n",
       "      <td>Everyone</td>\n",
       "    </tr>\n",
       "    <tr>\n",
       "      <th>10836</th>\n",
       "      <td>FAMILY</td>\n",
       "      <td>High</td>\n",
       "      <td>38</td>\n",
       "      <td>5.310000e+08</td>\n",
       "      <td>5000</td>\n",
       "      <td>Free</td>\n",
       "      <td>0.0</td>\n",
       "      <td>Everyone</td>\n",
       "    </tr>\n",
       "    <tr>\n",
       "      <th>10837</th>\n",
       "      <td>FAMILY</td>\n",
       "      <td>High</td>\n",
       "      <td>4</td>\n",
       "      <td>3.610000e+00</td>\n",
       "      <td>100</td>\n",
       "      <td>Free</td>\n",
       "      <td>0.0</td>\n",
       "      <td>Everyone</td>\n",
       "    </tr>\n",
       "    <tr>\n",
       "      <th>10840</th>\n",
       "      <td>LIFESTYLE</td>\n",
       "      <td>High</td>\n",
       "      <td>398307</td>\n",
       "      <td>1.910000e+08</td>\n",
       "      <td>10000000</td>\n",
       "      <td>Free</td>\n",
       "      <td>0.0</td>\n",
       "      <td>Everyone</td>\n",
       "    </tr>\n",
       "  </tbody>\n",
       "</table>\n",
       "<p>7424 rows × 8 columns</p>\n",
       "</div>"
      ],
      "text/plain": [
       "                  Category Rating Category  Reviews          Size  Installs  \\\n",
       "0           ART_AND_DESIGN            High      159  1.910000e+08     10000   \n",
       "1           ART_AND_DESIGN            High      967  1.410000e+08    500000   \n",
       "2           ART_AND_DESIGN            High    87510  8.710000e+00   5000000   \n",
       "3           ART_AND_DESIGN            High   215644  2.510000e+08  50000000   \n",
       "4           ART_AND_DESIGN            High      967  2.810000e+00    100000   \n",
       "...                    ...             ...      ...           ...       ...   \n",
       "10833  BOOKS_AND_REFERENCE            High       44  6.191000e+06      1000   \n",
       "10834               FAMILY            High        7  2.610000e+00       500   \n",
       "10836               FAMILY            High       38  5.310000e+08      5000   \n",
       "10837               FAMILY            High        4  3.610000e+00       100   \n",
       "10840            LIFESTYLE            High   398307  1.910000e+08  10000000   \n",
       "\n",
       "       Type  Price Content Rating  \n",
       "0      Free    0.0       Everyone  \n",
       "1      Free    0.0       Everyone  \n",
       "2      Free    0.0       Everyone  \n",
       "3      Free    0.0           Teen  \n",
       "4      Free    0.0       Everyone  \n",
       "...     ...    ...            ...  \n",
       "10833  Free    0.0       Everyone  \n",
       "10834  Free    0.0       Everyone  \n",
       "10836  Free    0.0       Everyone  \n",
       "10837  Free    0.0       Everyone  \n",
       "10840  Free    0.0       Everyone  \n",
       "\n",
       "[7424 rows x 8 columns]"
      ]
     },
     "execution_count": 79,
     "metadata": {},
     "output_type": "execute_result"
    }
   ],
   "source": [
    "app_data"
   ]
  },
  {
   "cell_type": "markdown",
   "id": "41d8035e",
   "metadata": {},
   "source": [
    "#### Q13)  Encode the categorical columns"
   ]
  },
  {
   "cell_type": "code",
   "execution_count": 81,
   "id": "4463df21",
   "metadata": {},
   "outputs": [
    {
     "data": {
      "text/html": [
       "<div>\n",
       "<style scoped>\n",
       "    .dataframe tbody tr th:only-of-type {\n",
       "        vertical-align: middle;\n",
       "    }\n",
       "\n",
       "    .dataframe tbody tr th {\n",
       "        vertical-align: top;\n",
       "    }\n",
       "\n",
       "    .dataframe thead th {\n",
       "        text-align: right;\n",
       "    }\n",
       "</style>\n",
       "<table border=\"1\" class=\"dataframe\">\n",
       "  <thead>\n",
       "    <tr style=\"text-align: right;\">\n",
       "      <th></th>\n",
       "      <th>count</th>\n",
       "      <th>unique</th>\n",
       "      <th>top</th>\n",
       "      <th>freq</th>\n",
       "    </tr>\n",
       "  </thead>\n",
       "  <tbody>\n",
       "    <tr>\n",
       "      <th>Category</th>\n",
       "      <td>7424</td>\n",
       "      <td>33</td>\n",
       "      <td>FAMILY</td>\n",
       "      <td>1591</td>\n",
       "    </tr>\n",
       "    <tr>\n",
       "      <th>Rating Category</th>\n",
       "      <td>7424</td>\n",
       "      <td>2</td>\n",
       "      <td>High</td>\n",
       "      <td>6599</td>\n",
       "    </tr>\n",
       "    <tr>\n",
       "      <th>Type</th>\n",
       "      <td>7424</td>\n",
       "      <td>2</td>\n",
       "      <td>Free</td>\n",
       "      <td>6877</td>\n",
       "    </tr>\n",
       "    <tr>\n",
       "      <th>Content Rating</th>\n",
       "      <td>7424</td>\n",
       "      <td>6</td>\n",
       "      <td>Everyone</td>\n",
       "      <td>5958</td>\n",
       "    </tr>\n",
       "  </tbody>\n",
       "</table>\n",
       "</div>"
      ],
      "text/plain": [
       "                count unique       top  freq\n",
       "Category         7424     33    FAMILY  1591\n",
       "Rating Category  7424      2      High  6599\n",
       "Type             7424      2      Free  6877\n",
       "Content Rating   7424      6  Everyone  5958"
      ]
     },
     "execution_count": 81,
     "metadata": {},
     "output_type": "execute_result"
    }
   ],
   "source": [
    "app_data.describe(include='O').transpose()"
   ]
  },
  {
   "cell_type": "code",
   "execution_count": 89,
   "id": "c58f994d",
   "metadata": {
    "scrolled": true
   },
   "outputs": [
    {
     "data": {
      "text/plain": [
       "Category\n",
       "GAME                   26802452717\n",
       "FAMILY                  6696862580\n",
       "TOOLS                   3526053500\n",
       "COMMUNICATION           3336915530\n",
       "NEWS_AND_MAGAZINES      3214900550\n",
       "PRODUCTIVITY            2711302080\n",
       "PHOTOGRAPHY             2390893130\n",
       "SHOPPING                1312731540\n",
       "SPORTS                  1062411465\n",
       "PERSONALIZATION          997142930\n",
       "VIDEO_PLAYERS            891762200\n",
       "HEALTH_AND_FITNESS       803456220\n",
       "SOCIAL                   794240475\n",
       "ENTERTAINMENT            748960000\n",
       "BUSINESS                 491782920\n",
       "LIFESTYLE                435519120\n",
       "FINANCE                  316587300\n",
       "TRAVEL_AND_LOCAL         260638300\n",
       "EDUCATION                208202000\n",
       "MAPS_AND_NAVIGATION      175015560\n",
       "FOOD_AND_DRINK           171567750\n",
       "WEATHER                  139296500\n",
       "BOOKS_AND_REFERENCE      134784155\n",
       "DATING                   105192410\n",
       "ART_AND_DESIGN            99233100\n",
       "LIBRARIES_AND_DEMO        60983000\n",
       "HOUSE_AND_HOME            51482000\n",
       "AUTO_AND_VEHICLES         43769800\n",
       "MEDICAL                   35460176\n",
       "PARENTING                 23566010\n",
       "COMICS                    17536100\n",
       "BEAUTY                    13416200\n",
       "EVENTS                    10648400\n",
       "Name: Installs, dtype: int64"
      ]
     },
     "execution_count": 89,
     "metadata": {},
     "output_type": "execute_result"
    }
   ],
   "source": [
    "app_data.groupby('Category')['Installs'].sum().sort_values(ascending=False)"
   ]
  },
  {
   "cell_type": "code",
   "execution_count": 93,
   "id": "6ef7a5d5",
   "metadata": {
    "scrolled": true
   },
   "outputs": [
    {
     "data": {
      "text/plain": [
       "Category             Type\n",
       "ART_AND_DESIGN       Free      56\n",
       "                     Paid       3\n",
       "AUTO_AND_VEHICLES    Free      63\n",
       "BEAUTY               Free      37\n",
       "BOOKS_AND_REFERENCE  Free     136\n",
       "                     Paid       7\n",
       "BUSINESS             Free     217\n",
       "                     Paid       8\n",
       "COMICS               Free      49\n",
       "COMMUNICATION        Free     188\n",
       "                     Paid      18\n",
       "DATING               Free     139\n",
       "                     Paid       2\n",
       "EDUCATION            Free      91\n",
       "                     Paid       4\n",
       "ENTERTAINMENT        Free      66\n",
       "                     Paid       1\n",
       "EVENTS               Free      38\n",
       "FAMILY               Free    1444\n",
       "                     Paid     147\n",
       "FINANCE              Free     250\n",
       "                     Paid      13\n",
       "FOOD_AND_DRINK       Free      81\n",
       "                     Paid       1\n",
       "GAME                 Free     884\n",
       "                     Paid      75\n",
       "HEALTH_AND_FITNESS   Free     191\n",
       "                     Paid       8\n",
       "HOUSE_AND_HOME       Free      50\n",
       "LIBRARIES_AND_DEMO   Free      62\n",
       "LIFESTYLE            Free     257\n",
       "                     Paid      16\n",
       "MAPS_AND_NAVIGATION  Free      91\n",
       "                     Paid       4\n",
       "MEDICAL              Free     222\n",
       "                     Paid      55\n",
       "NEWS_AND_MAGAZINES   Free     160\n",
       "                     Paid       2\n",
       "PARENTING            Free      43\n",
       "                     Paid       1\n",
       "PERSONALIZATION      Free     216\n",
       "                     Paid      63\n",
       "PHOTOGRAPHY          Free     212\n",
       "                     Paid      13\n",
       "PRODUCTIVITY         Free     217\n",
       "                     Paid      14\n",
       "SHOPPING             Free     157\n",
       "                     Paid       2\n",
       "SOCIAL               Free     168\n",
       "                     Paid       2\n",
       "SPORTS               Free     212\n",
       "                     Paid      20\n",
       "TOOLS                Free     579\n",
       "                     Paid      55\n",
       "TRAVEL_AND_LOCAL     Free     141\n",
       "                     Paid       6\n",
       "VIDEO_PLAYERS        Free     115\n",
       "                     Paid       1\n",
       "WEATHER              Free      45\n",
       "                     Paid       6\n",
       "Name: Type, dtype: int64"
      ]
     },
     "execution_count": 93,
     "metadata": {},
     "output_type": "execute_result"
    }
   ],
   "source": [
    "app_data.groupby('Category')['Type'].value_counts()"
   ]
  },
  {
   "cell_type": "markdown",
   "id": "4a2a7aeb",
   "metadata": {},
   "source": [
    "- Apps that fall under 'Family' and 'GAME' category are very much installed from Play Store\n",
    "- Apps that fall under 'Beauty' and 'Events' category are least installed from Play Store\n",
    "- There are more free 'Family' category apps than 'Beauty' category apps"
   ]
  },
  {
   "cell_type": "code",
   "execution_count": null,
   "id": "91e975a2",
   "metadata": {},
   "outputs": [],
   "source": []
  }
 ],
 "metadata": {
  "kernelspec": {
   "display_name": "Python 3 (ipykernel)",
   "language": "python",
   "name": "python3"
  },
  "language_info": {
   "codemirror_mode": {
    "name": "ipython",
    "version": 3
   },
   "file_extension": ".py",
   "mimetype": "text/x-python",
   "name": "python",
   "nbconvert_exporter": "python",
   "pygments_lexer": "ipython3",
   "version": "3.9.13"
  }
 },
 "nbformat": 4,
 "nbformat_minor": 5
}
